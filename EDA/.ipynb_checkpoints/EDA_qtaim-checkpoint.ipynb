{
 "cells": [
  {
   "cell_type": "code",
   "execution_count": null,
   "id": "4b01d4dd",
   "metadata": {},
   "outputs": [],
   "source": [
    "import pandas as pd\n",
    "import numpy as np\n",
    "pd.set_option(\"display.max_rows\", None)\n",
    "pd.set_option(\"display.max_columns\", None)\n",
    "import sklearn\n",
    "from sklearn.decomposition import PCA\n",
    "from sklearn.manifold import TSNE\n",
    "%matplotlib inline\n",
    "import matplotlib\n",
    "import matplotlib.pyplot as plt\n",
    "from mpl_toolkits.mplot3d import Axes3D\n",
    "import seaborn as sns\n",
    "from sklearn.preprocessing import StandardScaler\n",
    "import plotly.express as px"
   ]
  },
  {
   "cell_type": "code",
   "execution_count": null,
   "id": "0d623a03",
   "metadata": {},
   "outputs": [],
   "source": [
    "import sys\n",
    "libs = [sns, np, sklearn, pd, matplotlib]\n",
    "for i in libs:\n",
    "    print(i.__version__)"
   ]
  },
  {
   "cell_type": "code",
   "execution_count": null,
   "id": "4683b91a",
   "metadata": {},
   "outputs": [],
   "source": [
    "from platform import python_version\n",
    "python_version()"
   ]
  },
  {
   "cell_type": "markdown",
   "id": "a344766b",
   "metadata": {},
   "source": [
    "## Exploratory data analysis"
   ]
  },
  {
   "cell_type": "code",
   "execution_count": null,
   "id": "d63f19a1",
   "metadata": {
    "scrolled": true
   },
   "outputs": [],
   "source": [
    "dg = pd.read_csv(r'C:\\Users\\evg_ondar\\Prediction-of-Pt-NMR-chem-shifts\\dataset\\qtaim_pt_dataset.csv', sep=';')\n",
    "dois = dg['Source_doi']\n",
    "smiles = dg['Smiles']\n",
    "dg = dg.drop(['Source_doi', 'Smiles'], axis=1)\n",
    "dg.info()"
   ]
  },
  {
   "cell_type": "code",
   "execution_count": null,
   "id": "ada9e0bf",
   "metadata": {},
   "outputs": [],
   "source": [
    "shifts = dg['Shift']"
   ]
  },
  {
   "cell_type": "code",
   "execution_count": null,
   "id": "ac1d376c",
   "metadata": {
    "scrolled": true
   },
   "outputs": [],
   "source": [
    "sns.set_style(style=\"white\")\n",
    "sns.set_context(\"notebook\")\n",
    "\n",
    "_, ax = plt.subplots(figsize=(7,5))\n",
    "fig_ = sns.countplot(y='Charge_class', data=dg, palette='bright')\n",
    "sns.despine(offset=10, trim=True)\n",
    "ax.bar_label(ax.containers[0])\n",
    "fig_.set(xlabel='Count', ylabel= 'Charge')\n",
    "# plt.savefig('charge_count.png', dpi=300)\n",
    "plt.show()"
   ]
  },
  {
   "cell_type": "code",
   "execution_count": null,
   "id": "1ac35d19",
   "metadata": {
    "scrolled": true
   },
   "outputs": [],
   "source": [
    "for column in dg.select_dtypes(include='object'):\n",
    "    if dg[column].nunique() < 10:\n",
    "        _, ax = plt.subplots(figsize=(7,5))\n",
    "        fig_ = sns.countplot(ax=ax, y=column, data=dg, palette='bright')\n",
    "        sns.despine(offset=10, trim=True)\n",
    "        ax.bar_label(ax.containers[0])\n",
    "        fig_.set(xlabel='Count', ylabel= column)\n",
    "#         plt.savefig('{}.png'.format(column), dpi=300, bbox_inches='tight')\n",
    "        plt.show()"
   ]
  },
  {
   "cell_type": "code",
   "execution_count": null,
   "id": "e0206e4e",
   "metadata": {
    "scrolled": true
   },
   "outputs": [],
   "source": [
    "sns.set_style(style=\"white\")\n",
    "sns.set_context(\"notebook\")\n",
    "\n",
    "for column in dg.select_dtypes(include='object'):\n",
    "    if dg[column].nunique() < 10:\n",
    "        \n",
    "        swarm_plot, ax = plt.subplots(figsize=(6,6))\n",
    "        swarm_plot = sns.violinplot(y=column, x='Shift', data=dg, palette='bright')\n",
    "#         sns.stripplot(y=column, x='Shift', data=dg, color='gray', size=3)\n",
    "        sns.despine(offset=10, trim=True)\n",
    "        swarm_plot.set(xlabel='\\u03B4, ppm', ylabel= column)\n",
    "\n",
    "        plt.show()\n",
    "        fig = swarm_plot.get_figure()\n",
    "        #fig.savefig('{}.png'.format(column), dpi=300, bbox_inches='tight')"
   ]
  },
  {
   "cell_type": "code",
   "execution_count": null,
   "id": "1abd3b1c",
   "metadata": {},
   "outputs": [],
   "source": [
    "fig, ax = plt.subplots()\n",
    "dg.hist('Shift', ax=ax, bins=15, grid=False, figsize=(7,5), zorder=2, rwidth=0.9)\n",
    "plt.xlabel('\\u03B4, ppm')\n",
    "plt.ylabel('Count')\n",
    "# plt.savefig('shift_hist.png', dpi=300)"
   ]
  },
  {
   "cell_type": "code",
   "execution_count": null,
   "id": "c77bedfe",
   "metadata": {
    "scrolled": false
   },
   "outputs": [],
   "source": [
    "dg.hist(figsize=(30,30), xrot=45)\n",
    "plt.show()"
   ]
  },
  {
   "cell_type": "code",
   "execution_count": null,
   "id": "e55699ab",
   "metadata": {},
   "outputs": [],
   "source": [
    "dg = dg.drop(['Shift'], axis=1)"
   ]
  },
  {
   "cell_type": "code",
   "execution_count": null,
   "id": "c90b9d35",
   "metadata": {
    "scrolled": false
   },
   "outputs": [],
   "source": [
    "corrs = dg.corr()\n",
    "plt.figure(figsize=(40,40))\n",
    "sns.heatmap(corrs, cmap='RdBu_r', annot=True)\n",
    "plt.savefig('qtaim_corr_matrix.png', dpi=200)\n",
    "plt.show()"
   ]
  },
  {
   "cell_type": "code",
   "execution_count": null,
   "id": "2a5bc30d",
   "metadata": {
    "scrolled": true
   },
   "outputs": [],
   "source": [
    "#Detection of too correlated features. Threshold = 0.95\n",
    "upper = corrs.where(np.triu(np.ones(corrs.shape), k=1).astype(bool))\n",
    "strong_corr = [column for column in upper.columns if any(upper[column] > 0.95)]\n",
    "dg = dg.drop(strong_corr, axis=1)\n",
    "strong_corr"
   ]
  },
  {
   "cell_type": "code",
   "execution_count": null,
   "id": "baf3e0d0",
   "metadata": {
    "scrolled": true
   },
   "outputs": [],
   "source": [
    "dg.isnull().sum()"
   ]
  },
  {
   "cell_type": "code",
   "execution_count": null,
   "id": "6e9bb400",
   "metadata": {},
   "outputs": [],
   "source": [
    "dg['Shift'] = shifts\n",
    "dg['Smiles'] = smiles\n",
    "dg['Source_doi'] = dois\n",
    "dg.info()"
   ]
  },
  {
   "cell_type": "code",
   "execution_count": null,
   "id": "1b5e1014",
   "metadata": {},
   "outputs": [],
   "source": [
    "dg.to_csv('no_corr_qtaim_pt_dataset.csv', index=False)"
   ]
  },
  {
   "cell_type": "markdown",
   "id": "a463259f",
   "metadata": {},
   "source": [
    "## Visualization"
   ]
  },
  {
   "cell_type": "code",
   "execution_count": null,
   "id": "10e5ef1c",
   "metadata": {},
   "outputs": [],
   "source": [
    "dg.columns"
   ]
  },
  {
   "cell_type": "markdown",
   "id": "aba05b53",
   "metadata": {},
   "source": [
    "### PCA"
   ]
  },
  {
   "cell_type": "code",
   "execution_count": null,
   "id": "20f1a6af",
   "metadata": {},
   "outputs": [],
   "source": [
    "features = ['Rho at Nucleus', 'DelSqRho', 'V', 'G', 'L', 'Vnuc', 'Ven', 'Vrep',\n",
    "       'DelSqVen', 'DelSqVrep', 'DelSqK', 'ESP', 'ESPe', 'q(A)', 'L(A)',\n",
    "       'K(A)','|Mu_Intra(A)|', 'Molecular dipole', 'Shift']\n",
    "\n",
    "df = dg\n",
    "scaler = StandardScaler()\n",
    "\n",
    "df[features] = scaler.fit_transform(df[features])\n",
    "pca = PCA()\n",
    "components = pca.fit_transform(df[features])\n",
    "labels = {\n",
    "    str(i): f\"PC {i+1} ({var:.1f}%)\"\n",
    "    for i, var in enumerate(pca.explained_variance_ratio_ * 100)\n",
    "}\n",
    "\n",
    "n = 3\n",
    "most_important = [np.abs(pca.components_[i]).argmax() for i in range(n)]\n",
    "initial_feature_names = features\n",
    "print('Initial', initial_feature_names)\n",
    "most_important_names = [initial_feature_names[most_important[i]] for i in range(n)]\n",
    "print('PCA', most_important_names)\n",
    "\n",
    "fig = px.scatter_matrix(\n",
    "    components,\n",
    "    labels=labels,\n",
    "    dimensions=range(n),\n",
    "    color=df['Geometry']\n",
    ")\n",
    "fig.update_traces(diagonal_visible=False)\n",
    "fig.show()"
   ]
  },
  {
   "cell_type": "code",
   "execution_count": null,
   "id": "edbabf3f",
   "metadata": {},
   "outputs": [],
   "source": [
    "total_var = pca.explained_variance_ratio_.sum() * 100\n",
    "fig = px.scatter_3d(\n",
    "    components, x=0, y=1, z=2, color=df['Geometry'],\n",
    "    title=f'Total Explained Variance: {total_var:.2f}%',\n",
    "    labels={'0': 'PC 1', '1': 'PC 2', '2': 'PC 3'}\n",
    ")\n",
    "fig.show()"
   ]
  },
  {
   "cell_type": "code",
   "execution_count": null,
   "id": "576e56fc",
   "metadata": {},
   "outputs": [],
   "source": [
    "total_var = pca.explained_variance_ratio_.sum() * 100\n",
    "fig = px.scatter_3d(\n",
    "    components, x=0, y=1, z=2, color=df['Ligand'],\n",
    "    title=f'Total Explained Variance: {total_var:.2f}%',\n",
    "    labels={'0': 'PC 1', '1': 'PC 2', '2': 'PC 3'}\n",
    ")\n",
    "fig.show()"
   ]
  },
  {
   "cell_type": "code",
   "execution_count": null,
   "id": "b1647f2d",
   "metadata": {},
   "outputs": [],
   "source": [
    "total_var = pca.explained_variance_ratio_.sum() * 100\n",
    "fig = px.scatter_3d(\n",
    "    components, x=0, y=1, z=2, color=df['Charge_class'],\n",
    "    title=f'Total Explained Variance: {total_var:.2f}%',\n",
    "    labels={'0': 'PC 1', '1': 'PC 2', '2': 'PC 3'}\n",
    ")\n",
    "fig.show()"
   ]
  },
  {
   "cell_type": "markdown",
   "id": "81527b2e",
   "metadata": {},
   "source": [
    "### t-SNE"
   ]
  },
  {
   "cell_type": "code",
   "execution_count": null,
   "id": "915e2524",
   "metadata": {},
   "outputs": [],
   "source": [
    "tsne = TSNE(n_components=3, random_state=0)\n",
    "projections = tsne.fit_transform(df[features], )\n",
    "\n",
    "fig = px.scatter_3d(\n",
    "    projections, x=0, y=1, z=2,\n",
    "    color=df.Ligand\n",
    ")\n",
    "fig.update_traces(marker_size=8)\n",
    "fig.show()"
   ]
  },
  {
   "cell_type": "code",
   "execution_count": null,
   "id": "6b7bcf61",
   "metadata": {},
   "outputs": [],
   "source": [
    "tsne = TSNE(n_components=3, random_state=0)\n",
    "projections = tsne.fit_transform(df[features], )\n",
    "\n",
    "fig = px.scatter_3d(\n",
    "    projections, x=0, y=1, z=2,\n",
    "    color=df.Geometry\n",
    ")\n",
    "fig.update_traces(marker_size=8)\n",
    "fig.show()"
   ]
  },
  {
   "cell_type": "code",
   "execution_count": null,
   "id": "f5752f3b",
   "metadata": {},
   "outputs": [],
   "source": [
    "tsne = TSNE(n_components=3, random_state=0)\n",
    "projections = tsne.fit_transform(df[features], )\n",
    "\n",
    "fig = px.scatter_3d(\n",
    "    projections, x=0, y=1, z=2,\n",
    "    color=df.Charge_class\n",
    ")\n",
    "fig.update_traces(marker_size=8)\n",
    "fig.show()"
   ]
  },
  {
   "cell_type": "code",
   "execution_count": null,
   "id": "fdded511",
   "metadata": {},
   "outputs": [],
   "source": []
  }
 ],
 "metadata": {
  "kernelspec": {
   "display_name": "Python 3 (ipykernel)",
   "language": "python",
   "name": "python3"
  },
  "language_info": {
   "codemirror_mode": {
    "name": "ipython",
    "version": 3
   },
   "file_extension": ".py",
   "mimetype": "text/x-python",
   "name": "python",
   "nbconvert_exporter": "python",
   "pygments_lexer": "ipython3",
   "version": "3.11.0"
  }
 },
 "nbformat": 4,
 "nbformat_minor": 5
}
