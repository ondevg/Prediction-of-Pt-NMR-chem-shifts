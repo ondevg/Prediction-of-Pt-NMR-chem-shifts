{
 "cells": [
  {
   "cell_type": "code",
   "execution_count": 2,
   "id": "92b7a49b",
   "metadata": {},
   "outputs": [],
   "source": [
    "import pandas as pd\n",
    "import matplotlib.pyplot as plt\n",
    "import seaborn as sns\n",
    "from sklearn.model_selection import train_test_split, learning_curve\n",
    "from sklearn.metrics import mean_squared_error, mean_absolute_error, r2_score\n",
    "from sklearn.ensemble import RandomForestRegressor\n",
    "from sklearn.kernel_ridge import KernelRidge\n",
    "from math import sqrt\n",
    "import numpy as np\n",
    "from sklearn.svm import SVR\n",
    "from sklearn.model_selection import RandomizedSearchCV, cross_val_score\n",
    "from sklearn.preprocessing import StandardScaler\n",
    "from sklearn.model_selection import learning_curve\n",
    "from sklearn.model_selection import ShuffleSplit\n",
    "# pd.set_option(\"display.max_rows\", None)\n",
    "# pd.set_option(\"display.max_columns\", None)\n",
    "import shap"
   ]
  },
  {
   "cell_type": "markdown",
   "id": "d1ce1d93",
   "metadata": {},
   "source": [
    "## Data preparation"
   ]
  },
  {
   "cell_type": "code",
   "execution_count": 3,
   "id": "48fce438",
   "metadata": {
    "scrolled": false
   },
   "outputs": [
    {
     "data": {
      "text/html": [
       "<div>\n",
       "<style scoped>\n",
       "    .dataframe tbody tr th:only-of-type {\n",
       "        vertical-align: middle;\n",
       "    }\n",
       "\n",
       "    .dataframe tbody tr th {\n",
       "        vertical-align: top;\n",
       "    }\n",
       "\n",
       "    .dataframe thead th {\n",
       "        text-align: right;\n",
       "    }\n",
       "</style>\n",
       "<table border=\"1\" class=\"dataframe\">\n",
       "  <thead>\n",
       "    <tr style=\"text-align: right;\">\n",
       "      <th></th>\n",
       "      <th>Complex ID</th>\n",
       "      <th>1</th>\n",
       "      <th>2</th>\n",
       "      <th>3</th>\n",
       "      <th>4</th>\n",
       "      <th>5</th>\n",
       "      <th>6</th>\n",
       "      <th>7</th>\n",
       "      <th>8</th>\n",
       "      <th>9</th>\n",
       "      <th>...</th>\n",
       "      <th>Charge</th>\n",
       "      <th>Shift</th>\n",
       "      <th>Dipole_point_q</th>\n",
       "      <th>q</th>\n",
       "      <th>Brutto</th>\n",
       "      <th>Charge_class</th>\n",
       "      <th>Geometry</th>\n",
       "      <th>Ligand</th>\n",
       "      <th>Smiles</th>\n",
       "      <th>Source_doi</th>\n",
       "    </tr>\n",
       "  </thead>\n",
       "  <tbody>\n",
       "    <tr>\n",
       "      <th>0</th>\n",
       "      <td>4</td>\n",
       "      <td>0.0</td>\n",
       "      <td>0.0</td>\n",
       "      <td>0.0</td>\n",
       "      <td>0.0</td>\n",
       "      <td>0.0</td>\n",
       "      <td>0.0</td>\n",
       "      <td>0.0</td>\n",
       "      <td>0.0</td>\n",
       "      <td>0.0</td>\n",
       "      <td>...</td>\n",
       "      <td>-2000</td>\n",
       "      <td>-1630</td>\n",
       "      <td>16.713013</td>\n",
       "      <td>91.0</td>\n",
       "      <td>[PtCl4]2-</td>\n",
       "      <td>anion</td>\n",
       "      <td>sq-pl</td>\n",
       "      <td>hal</td>\n",
       "      <td>Cl[Pt@SP1](Cl)(Cl)Cl</td>\n",
       "      <td>https://doi.org/10.1002/ejic.201600573</td>\n",
       "    </tr>\n",
       "    <tr>\n",
       "      <th>1</th>\n",
       "      <td>5</td>\n",
       "      <td>0.0</td>\n",
       "      <td>0.0</td>\n",
       "      <td>0.0</td>\n",
       "      <td>0.0</td>\n",
       "      <td>0.0</td>\n",
       "      <td>0.0</td>\n",
       "      <td>0.0</td>\n",
       "      <td>0.0</td>\n",
       "      <td>0.0</td>\n",
       "      <td>...</td>\n",
       "      <td>-2000</td>\n",
       "      <td>-1842</td>\n",
       "      <td>770.758366</td>\n",
       "      <td>56.0</td>\n",
       "      <td>[PtCl3Br]2-</td>\n",
       "      <td>anion</td>\n",
       "      <td>sq-pl</td>\n",
       "      <td>hal</td>\n",
       "      <td>Cl[Pt@SP1](Cl)(Cl)Br</td>\n",
       "      <td>https://doi.org/10.1002/ejic.201600573</td>\n",
       "    </tr>\n",
       "    <tr>\n",
       "      <th>2</th>\n",
       "      <td>6</td>\n",
       "      <td>0.0</td>\n",
       "      <td>0.0</td>\n",
       "      <td>0.0</td>\n",
       "      <td>0.0</td>\n",
       "      <td>0.0</td>\n",
       "      <td>0.0</td>\n",
       "      <td>0.0</td>\n",
       "      <td>0.0</td>\n",
       "      <td>0.0</td>\n",
       "      <td>...</td>\n",
       "      <td>0</td>\n",
       "      <td>-2090</td>\n",
       "      <td>0.254180</td>\n",
       "      <td>26.0</td>\n",
       "      <td>trans-[PtCl2Br2]</td>\n",
       "      <td>neutral</td>\n",
       "      <td>sq-pl</td>\n",
       "      <td>hal</td>\n",
       "      <td>Br[Pt@SP1](Cl)(Br)Cl</td>\n",
       "      <td>https://doi.org/10.1002/ejic.201600573</td>\n",
       "    </tr>\n",
       "    <tr>\n",
       "      <th>3</th>\n",
       "      <td>7</td>\n",
       "      <td>0.0</td>\n",
       "      <td>0.0</td>\n",
       "      <td>0.0</td>\n",
       "      <td>0.0</td>\n",
       "      <td>0.0</td>\n",
       "      <td>0.0</td>\n",
       "      <td>0.0</td>\n",
       "      <td>0.0</td>\n",
       "      <td>0.0</td>\n",
       "      <td>...</td>\n",
       "      <td>0</td>\n",
       "      <td>-2103</td>\n",
       "      <td>1003.165338</td>\n",
       "      <td>18.0</td>\n",
       "      <td>cis-[PtCl2Br2]</td>\n",
       "      <td>neutral</td>\n",
       "      <td>sq-pl</td>\n",
       "      <td>hal</td>\n",
       "      <td>Cl[Pt@SP1](Cl)(Br)[Br]</td>\n",
       "      <td>https://doi.org/10.1002/ejic.201600573</td>\n",
       "    </tr>\n",
       "    <tr>\n",
       "      <th>4</th>\n",
       "      <td>8</td>\n",
       "      <td>0.0</td>\n",
       "      <td>0.0</td>\n",
       "      <td>0.0</td>\n",
       "      <td>0.0</td>\n",
       "      <td>0.0</td>\n",
       "      <td>0.0</td>\n",
       "      <td>0.0</td>\n",
       "      <td>0.0</td>\n",
       "      <td>0.0</td>\n",
       "      <td>...</td>\n",
       "      <td>-2000</td>\n",
       "      <td>-2346</td>\n",
       "      <td>1414.192862</td>\n",
       "      <td>-6.0</td>\n",
       "      <td>[PtCl3I]2-</td>\n",
       "      <td>anion</td>\n",
       "      <td>sq-pl</td>\n",
       "      <td>hal</td>\n",
       "      <td>Cl[Pt@SP1](Cl)(Cl)I</td>\n",
       "      <td>https://doi.org/10.1002/ejic.201600573</td>\n",
       "    </tr>\n",
       "    <tr>\n",
       "      <th>...</th>\n",
       "      <td>...</td>\n",
       "      <td>...</td>\n",
       "      <td>...</td>\n",
       "      <td>...</td>\n",
       "      <td>...</td>\n",
       "      <td>...</td>\n",
       "      <td>...</td>\n",
       "      <td>...</td>\n",
       "      <td>...</td>\n",
       "      <td>...</td>\n",
       "      <td>...</td>\n",
       "      <td>...</td>\n",
       "      <td>...</td>\n",
       "      <td>...</td>\n",
       "      <td>...</td>\n",
       "      <td>...</td>\n",
       "      <td>...</td>\n",
       "      <td>...</td>\n",
       "      <td>...</td>\n",
       "      <td>...</td>\n",
       "      <td>...</td>\n",
       "    </tr>\n",
       "    <tr>\n",
       "      <th>117</th>\n",
       "      <td>545</td>\n",
       "      <td>0.0</td>\n",
       "      <td>0.0</td>\n",
       "      <td>0.0</td>\n",
       "      <td>0.0</td>\n",
       "      <td>0.0</td>\n",
       "      <td>0.0</td>\n",
       "      <td>0.0</td>\n",
       "      <td>0.0</td>\n",
       "      <td>0.0</td>\n",
       "      <td>...</td>\n",
       "      <td>0</td>\n",
       "      <td>-3372</td>\n",
       "      <td>2.934876</td>\n",
       "      <td>-191.0</td>\n",
       "      <td>trans-[Pt(NH3)2I2]</td>\n",
       "      <td>neutral</td>\n",
       "      <td>sq-pl</td>\n",
       "      <td>hal-org</td>\n",
       "      <td>[Pt@SP1]([NH3+])(I)([NH3+])I</td>\n",
       "      <td>https://doi.org/10.1002/ejic.202000474</td>\n",
       "    </tr>\n",
       "    <tr>\n",
       "      <th>118</th>\n",
       "      <td>546</td>\n",
       "      <td>0.0</td>\n",
       "      <td>0.0</td>\n",
       "      <td>0.0</td>\n",
       "      <td>0.0</td>\n",
       "      <td>0.0</td>\n",
       "      <td>0.0</td>\n",
       "      <td>0.0</td>\n",
       "      <td>0.0</td>\n",
       "      <td>0.0</td>\n",
       "      <td>...</td>\n",
       "      <td>-1000</td>\n",
       "      <td>-1884</td>\n",
       "      <td>1282.595422</td>\n",
       "      <td>219.0</td>\n",
       "      <td>[Pt(NH3)Cl3]-</td>\n",
       "      <td>anion</td>\n",
       "      <td>sq-pl</td>\n",
       "      <td>hal-org</td>\n",
       "      <td>[Pt@SP1]([NH3+])(Cl)(Cl)Cl</td>\n",
       "      <td>https://doi.org/10.1002/ejic.202000474</td>\n",
       "    </tr>\n",
       "    <tr>\n",
       "      <th>119</th>\n",
       "      <td>547</td>\n",
       "      <td>0.0</td>\n",
       "      <td>0.0</td>\n",
       "      <td>0.0</td>\n",
       "      <td>0.0</td>\n",
       "      <td>0.0</td>\n",
       "      <td>0.0</td>\n",
       "      <td>0.0</td>\n",
       "      <td>0.0</td>\n",
       "      <td>0.0</td>\n",
       "      <td>...</td>\n",
       "      <td>-1000</td>\n",
       "      <td>-2534</td>\n",
       "      <td>598.143687</td>\n",
       "      <td>185.0</td>\n",
       "      <td>[Pt(NH3)Br3]-</td>\n",
       "      <td>anion</td>\n",
       "      <td>sq-pl</td>\n",
       "      <td>hal-org</td>\n",
       "      <td>[Pt@SP1]([NH3+])(Br)(Br)Br</td>\n",
       "      <td>https://doi.org/10.1002/ejic.202000474</td>\n",
       "    </tr>\n",
       "    <tr>\n",
       "      <th>120</th>\n",
       "      <td>548</td>\n",
       "      <td>0.0</td>\n",
       "      <td>0.0</td>\n",
       "      <td>0.0</td>\n",
       "      <td>0.0</td>\n",
       "      <td>0.0</td>\n",
       "      <td>0.0</td>\n",
       "      <td>0.0</td>\n",
       "      <td>0.0</td>\n",
       "      <td>0.0</td>\n",
       "      <td>...</td>\n",
       "      <td>-1000</td>\n",
       "      <td>-3298</td>\n",
       "      <td>1269.126886</td>\n",
       "      <td>55.0</td>\n",
       "      <td>trans-[Pt(NH3)ClI2]-</td>\n",
       "      <td>anion</td>\n",
       "      <td>sq-pl</td>\n",
       "      <td>hal-org</td>\n",
       "      <td>[Pt@SP1]([NH3+])(I)(Cl)I</td>\n",
       "      <td>https://doi.org/10.1002/ejic.202000474</td>\n",
       "    </tr>\n",
       "    <tr>\n",
       "      <th>121</th>\n",
       "      <td>549</td>\n",
       "      <td>0.0</td>\n",
       "      <td>0.0</td>\n",
       "      <td>0.0</td>\n",
       "      <td>0.0</td>\n",
       "      <td>0.0</td>\n",
       "      <td>0.0</td>\n",
       "      <td>0.0</td>\n",
       "      <td>0.0</td>\n",
       "      <td>0.0</td>\n",
       "      <td>...</td>\n",
       "      <td>-1000</td>\n",
       "      <td>-4250</td>\n",
       "      <td>1142.398727</td>\n",
       "      <td>-39.0</td>\n",
       "      <td>[Pt(NH3)I3]-</td>\n",
       "      <td>anion</td>\n",
       "      <td>sq-pl</td>\n",
       "      <td>hal-org</td>\n",
       "      <td>[Pt@SP1]([NH3+])(I)(I)I</td>\n",
       "      <td>https://doi.org/10.1002/ejic.202000474</td>\n",
       "    </tr>\n",
       "  </tbody>\n",
       "</table>\n",
       "<p>122 rows × 14675 columns</p>\n",
       "</div>"
      ],
      "text/plain": [
       "    Complex ID    1    2    3    4    5    6    7    8    9  ...  Charge  \\\n",
       "0            4  0.0  0.0  0.0  0.0  0.0  0.0  0.0  0.0  0.0  ...   -2000   \n",
       "1            5  0.0  0.0  0.0  0.0  0.0  0.0  0.0  0.0  0.0  ...   -2000   \n",
       "2            6  0.0  0.0  0.0  0.0  0.0  0.0  0.0  0.0  0.0  ...       0   \n",
       "3            7  0.0  0.0  0.0  0.0  0.0  0.0  0.0  0.0  0.0  ...       0   \n",
       "4            8  0.0  0.0  0.0  0.0  0.0  0.0  0.0  0.0  0.0  ...   -2000   \n",
       "..         ...  ...  ...  ...  ...  ...  ...  ...  ...  ...  ...     ...   \n",
       "117        545  0.0  0.0  0.0  0.0  0.0  0.0  0.0  0.0  0.0  ...       0   \n",
       "118        546  0.0  0.0  0.0  0.0  0.0  0.0  0.0  0.0  0.0  ...   -1000   \n",
       "119        547  0.0  0.0  0.0  0.0  0.0  0.0  0.0  0.0  0.0  ...   -1000   \n",
       "120        548  0.0  0.0  0.0  0.0  0.0  0.0  0.0  0.0  0.0  ...   -1000   \n",
       "121        549  0.0  0.0  0.0  0.0  0.0  0.0  0.0  0.0  0.0  ...   -1000   \n",
       "\n",
       "     Shift  Dipole_point_q      q                Brutto  Charge_class  \\\n",
       "0    -1630       16.713013   91.0             [PtCl4]2-         anion   \n",
       "1    -1842      770.758366   56.0           [PtCl3Br]2-         anion   \n",
       "2    -2090        0.254180   26.0      trans-[PtCl2Br2]       neutral   \n",
       "3    -2103     1003.165338   18.0        cis-[PtCl2Br2]       neutral   \n",
       "4    -2346     1414.192862   -6.0            [PtCl3I]2-         anion   \n",
       "..     ...             ...    ...                   ...           ...   \n",
       "117  -3372        2.934876 -191.0    trans-[Pt(NH3)2I2]       neutral   \n",
       "118  -1884     1282.595422  219.0         [Pt(NH3)Cl3]-         anion   \n",
       "119  -2534      598.143687  185.0         [Pt(NH3)Br3]-         anion   \n",
       "120  -3298     1269.126886   55.0  trans-[Pt(NH3)ClI2]-         anion   \n",
       "121  -4250     1142.398727  -39.0          [Pt(NH3)I3]-         anion   \n",
       "\n",
       "     Geometry   Ligand                        Smiles  \\\n",
       "0       sq-pl      hal          Cl[Pt@SP1](Cl)(Cl)Cl   \n",
       "1       sq-pl      hal          Cl[Pt@SP1](Cl)(Cl)Br   \n",
       "2       sq-pl      hal          Br[Pt@SP1](Cl)(Br)Cl   \n",
       "3       sq-pl      hal        Cl[Pt@SP1](Cl)(Br)[Br]   \n",
       "4       sq-pl      hal           Cl[Pt@SP1](Cl)(Cl)I   \n",
       "..        ...      ...                           ...   \n",
       "117     sq-pl  hal-org  [Pt@SP1]([NH3+])(I)([NH3+])I   \n",
       "118     sq-pl  hal-org    [Pt@SP1]([NH3+])(Cl)(Cl)Cl   \n",
       "119     sq-pl  hal-org    [Pt@SP1]([NH3+])(Br)(Br)Br   \n",
       "120     sq-pl  hal-org      [Pt@SP1]([NH3+])(I)(Cl)I   \n",
       "121     sq-pl  hal-org       [Pt@SP1]([NH3+])(I)(I)I   \n",
       "\n",
       "                                 Source_doi  \n",
       "0    https://doi.org/10.1002/ejic.201600573  \n",
       "1    https://doi.org/10.1002/ejic.201600573  \n",
       "2    https://doi.org/10.1002/ejic.201600573  \n",
       "3    https://doi.org/10.1002/ejic.201600573  \n",
       "4    https://doi.org/10.1002/ejic.201600573  \n",
       "..                                      ...  \n",
       "117  https://doi.org/10.1002/ejic.202000474  \n",
       "118  https://doi.org/10.1002/ejic.202000474  \n",
       "119  https://doi.org/10.1002/ejic.202000474  \n",
       "120  https://doi.org/10.1002/ejic.202000474  \n",
       "121  https://doi.org/10.1002/ejic.202000474  \n",
       "\n",
       "[122 rows x 14675 columns]"
      ]
     },
     "execution_count": 3,
     "metadata": {},
     "output_type": "execute_result"
    }
   ],
   "source": [
    "df = pd.read_csv('dataset_slatm\\no_corr_slatm_122_dataset.csv',  dtype={'Complex ID': 'str'})\n",
    "df"
   ]
  },
  {
   "cell_type": "code",
   "execution_count": 4,
   "id": "857006a8",
   "metadata": {
    "scrolled": true
   },
   "outputs": [],
   "source": [
    "y = df.Shift.to_numpy()\n",
    "X = df.drop(['Complex ID', 'Shift', 'Source_doi', 'Brutto', 'Charge_class', 'Geometry', 'Ligand', 'Smiles'], axis=1)\n",
    "columns = X.columns\n",
    "X = X.to_numpy()"
   ]
  },
  {
   "cell_type": "code",
   "execution_count": 5,
   "id": "bb39b63e",
   "metadata": {},
   "outputs": [],
   "source": [
    "X_train, X_test, y_train, y_test = train_test_split(X, y, test_size=0.2, random_state=42)"
   ]
  },
  {
   "cell_type": "code",
   "execution_count": 6,
   "id": "a5eca067",
   "metadata": {
    "scrolled": true
   },
   "outputs": [],
   "source": [
    "scaler_train = StandardScaler()\n",
    "\n",
    "scaler_train.fit(X_train)\n",
    "scaler_train.fit(X_test)\n",
    "\n",
    "X_train_norm = scaler_train.transform(X_train)\n",
    "X_test_norm = scaler_train.transform(X_test)"
   ]
  },
  {
   "cell_type": "markdown",
   "id": "037889cb",
   "metadata": {},
   "source": [
    "## Some useful functions"
   ]
  },
  {
   "cell_type": "code",
   "execution_count": 7,
   "id": "43ac5a01",
   "metadata": {},
   "outputs": [],
   "source": [
    "def metrics(y, y_pred):\n",
    "    \n",
    "    rmse = sqrt(mean_squared_error(y, y_pred))\n",
    "    mae = mean_absolute_error(y, y_pred)\n",
    "    r2 = r2_score(y, y_pred)\n",
    "    print('RMSE = {:0.2f} ppm'.format(rmse),'\\n',\n",
    "          'MAE = {:0.2f} ppm'.format(mae), '\\n',\n",
    "         '$R^2$ = {:0.2f}'.format(r2))   \n",
    "    \n",
    "    return {'RMSE': rmse, 'MAE': mae, '$R^2$': r2}"
   ]
  },
  {
   "cell_type": "code",
   "execution_count": 8,
   "id": "69cc3e0b",
   "metadata": {},
   "outputs": [],
   "source": [
    "def plot_correlation(model, X, y):\n",
    "    \n",
    "    plt.rcParams['font.size'] = 16\n",
    "    fig, ax = plt.subplots(figsize=(8,8))\n",
    "    plt.plot(y, y, color='r', linestyle='-', linewidth=2)\n",
    "    plt.plot(y, model.predict(X), linestyle='none', color='blue', marker='o')\n",
    "    \n",
    "    plt.xlabel(\"Experimental δ, ppm\")\n",
    "    plt.ylabel(\"Predicted δ, ppm\")\n",
    "    fig.tight_layout() \n",
    "    plt.show()\n",
    "    fig.savefig('slatm_{}.png'.format(str(model)[:10]), dpi=300, bbox_inches = 'tight')\n",
    "    \n",
    "    return metrics(y, model.predict(X))"
   ]
  },
  {
   "cell_type": "code",
   "execution_count": 9,
   "id": "77d1269c",
   "metadata": {},
   "outputs": [],
   "source": [
    "def tune_hyperparam(estimator, grid, X, y):\n",
    "    \n",
    "    est_random = RandomizedSearchCV(estimator=estimator, param_distributions = grid, n_iter = 100, \n",
    "                                    cv = 5, verbose=2, random_state=42, n_jobs = -1)\n",
    "    est_random.fit(X, y)\n",
    "    print(est_random.best_params_)\n",
    "    print('Mean of $R**2$', est_random.best_score_)\n",
    "    \n",
    "    return est_random.best_estimator_"
   ]
  },
  {
   "cell_type": "code",
   "execution_count": 10,
   "id": "6920dfb4",
   "metadata": {},
   "outputs": [],
   "source": [
    "def evaluate(estimator, X, y, n_splits, scoring):\n",
    "    \n",
    "    cv = ShuffleSplit(n_splits=n_splits, test_size=0.2, random_state=42)\n",
    "    scores = cross_val_score(estimator, X, y, cv=cv, scoring=scoring)\n",
    "    \n",
    "    if scoring == 'r2':\n",
    "        scores = scores\n",
    "        \n",
    "    if scoring == 'neg_mean_absolute_error':\n",
    "        scores = [-i for i in scores]\n",
    "        \n",
    "    if scoring == 'neg_mean_squared_error':\n",
    "        scores = [np.sqrt(-i) for i in scores]\n",
    "        \n",
    "    return {'Mean':np.round(np.mean(scores), 2), 'Std': np.round(np.std(scores), 2),\n",
    "            'Min': np.round(np.min(scores), 2), 'Max': np.round(np.max(scores), 2)}"
   ]
  },
  {
   "cell_type": "markdown",
   "id": "08858f5f",
   "metadata": {},
   "source": [
    "## Models: Random Forest, Ridge regressor, SVR"
   ]
  },
  {
   "cell_type": "markdown",
   "id": "fa5c2be9",
   "metadata": {},
   "source": [
    "### Hyperprameter tuning by use of grid search"
   ]
  },
  {
   "cell_type": "code",
   "execution_count": 11,
   "id": "b09fbb59",
   "metadata": {
    "scrolled": true
   },
   "outputs": [],
   "source": [
    "#Random forest grid\n",
    "n_estimators = [int(x) for x in np.linspace(start = 10, stop = 1000, num = 20)]\n",
    "max_features = ['auto', 'sqrt']\n",
    "max_depth = [int(x) for x in np.linspace(5, 205, num = 22)]\n",
    "max_depth.append(None)\n",
    "min_samples_split = [1, 2, 3, 4, 5, 6, 7, 8, 9, 10]\n",
    "min_samples_leaf = [1, 2, 3, 4]\n",
    "bootstrap = [True, False]\n",
    "warm_start = [True, False]\n",
    "grid_rf = {'n_estimators': n_estimators,\n",
    "               'max_features': max_features,\n",
    "               'max_depth': max_depth,\n",
    "               'min_samples_split': min_samples_split,\n",
    "               'min_samples_leaf': min_samples_leaf,\n",
    "               'bootstrap': bootstrap,\n",
    "              'warm_start': warm_start}"
   ]
  },
  {
   "cell_type": "code",
   "execution_count": 12,
   "id": "c1242421",
   "metadata": {
    "scrolled": true
   },
   "outputs": [],
   "source": [
    "#Ridge regression grid\n",
    "alpha = [1.e-0, 1.e-1, 1.e-2, 1.e-3, 1.e-4, 1.e-5, 1.e-6, 1.e-7, 1.e-8, 1.e-9, 1.e-10]\n",
    "coef0 = np.linspace(1.e-10, 1, 50)\n",
    "degree = [0, 1, 2, 3, 4]\n",
    "gamma = [1.e-0, 1.e-1, 1.e-2, 1.e-3, 1.e-4, 1.e-5, 1.e-6, 1.e-7, 1.e-8, 1.e-9, 1.e-10]\n",
    "kernel = ['laplacian', 'RBF', 'polynomial', 'exponential chi2', 'sigmoid']\n",
    "\n",
    "grid_ridge = {'alpha': alpha,\n",
    "         'coef0': coef0,\n",
    "         'degree': degree,\n",
    "         'gamma': gamma,\n",
    "         'kernel': kernel}"
   ]
  },
  {
   "cell_type": "code",
   "execution_count": 13,
   "id": "4d105e58",
   "metadata": {
    "scrolled": true
   },
   "outputs": [],
   "source": [
    "#SVR grid\n",
    "C = [10000, 100000, 1000000, 10000000]\n",
    "coef0 = [1.e-0, 1.e-1, 1.e-2, 1.e-3, 1.e-4, 1.e-5, 1.e-6, 1.e-7, 1.e-8, 1.e-9, 1.e-10]\n",
    "degree = [1, 2, 3, 4, 5]\n",
    "epsilon = [1.e-0, 1.e-1, 1.e-2, 1.e-3, 1.e-4, 1.e-5, 1.e-6, 1.e-7, 1.e-8, 1.e-9, 1.e-10]\n",
    "gamma = ['scale', 'auto']\n",
    "kernel = ['linear', 'poly', 'rbf', 'sigmoid']\n",
    "tol = [1.e-1, 1.e-2, 1.e-3, 1.e-4, 1.e-5, 1.e-6, 1.e-7, 1.e-8, 1.e-9, 1.e-10]\n",
    "max_iter = 1000000\n",
    "\n",
    "grid_svr = {'C' : C,\n",
    "     'coef0': coef0,\n",
    "     'degree': degree,\n",
    "     'epsilon': epsilon,\n",
    "     'gamma': gamma,\n",
    "     'kernel': kernel,\n",
    "     'tol': tol}"
   ]
  },
  {
   "cell_type": "code",
   "execution_count": 14,
   "id": "806e56fa",
   "metadata": {},
   "outputs": [],
   "source": [
    "rf = RandomForestRegressor(random_state=42)\n",
    "ridge = KernelRidge()\n",
    "svr = SVR(max_iter=max_iter)\n",
    "estimators = {rf: grid_rf, ridge: grid_ridge, svr: grid_svr}"
   ]
  },
  {
   "cell_type": "code",
   "execution_count": 15,
   "id": "14456f8d",
   "metadata": {
    "scrolled": true
   },
   "outputs": [
    {
     "name": "stdout",
     "output_type": "stream",
     "text": [
      "Fitting 5 folds for each of 100 candidates, totalling 500 fits\n"
     ]
    },
    {
     "name": "stderr",
     "output_type": "stream",
     "text": [
      "\n",
      "40 fits failed out of a total of 500.\n",
      "The score on these train-test partitions for these parameters will be set to nan.\n",
      "If these failures are not expected, you can try to debug them by setting error_score='raise'.\n",
      "\n",
      "Below are more details about the failures:\n",
      "--------------------------------------------------------------------------------\n",
      "35 fits failed with the following error:\n",
      "Traceback (most recent call last):\n",
      "  File \"C:\\Users\\evg_ondar\\Miniconda3\\lib\\site-packages\\sklearn\\model_selection\\_validation.py\", line 686, in _fit_and_score\n",
      "    estimator.fit(X_train, y_train, **fit_params)\n",
      "  File \"C:\\Users\\evg_ondar\\Miniconda3\\lib\\site-packages\\sklearn\\ensemble\\_forest.py\", line 476, in fit\n",
      "    trees = Parallel(\n",
      "  File \"C:\\Users\\evg_ondar\\Miniconda3\\lib\\site-packages\\joblib\\parallel.py\", line 1043, in __call__\n",
      "    if self.dispatch_one_batch(iterator):\n",
      "  File \"C:\\Users\\evg_ondar\\Miniconda3\\lib\\site-packages\\joblib\\parallel.py\", line 861, in dispatch_one_batch\n",
      "    self._dispatch(tasks)\n",
      "  File \"C:\\Users\\evg_ondar\\Miniconda3\\lib\\site-packages\\joblib\\parallel.py\", line 779, in _dispatch\n",
      "    job = self._backend.apply_async(batch, callback=cb)\n",
      "  File \"C:\\Users\\evg_ondar\\Miniconda3\\lib\\site-packages\\joblib\\_parallel_backends.py\", line 208, in apply_async\n",
      "    result = ImmediateResult(func)\n",
      "  File \"C:\\Users\\evg_ondar\\Miniconda3\\lib\\site-packages\\joblib\\_parallel_backends.py\", line 572, in __init__\n",
      "    self.results = batch()\n",
      "  File \"C:\\Users\\evg_ondar\\Miniconda3\\lib\\site-packages\\joblib\\parallel.py\", line 262, in __call__\n",
      "    return [func(*args, **kwargs)\n",
      "  File \"C:\\Users\\evg_ondar\\Miniconda3\\lib\\site-packages\\joblib\\parallel.py\", line 262, in <listcomp>\n",
      "    return [func(*args, **kwargs)\n",
      "  File \"C:\\Users\\evg_ondar\\Miniconda3\\lib\\site-packages\\sklearn\\utils\\fixes.py\", line 117, in __call__\n",
      "    return self.function(*args, **kwargs)\n",
      "  File \"C:\\Users\\evg_ondar\\Miniconda3\\lib\\site-packages\\sklearn\\ensemble\\_forest.py\", line 189, in _parallel_build_trees\n",
      "    tree.fit(X, y, sample_weight=curr_sample_weight, check_input=False)\n",
      "  File \"C:\\Users\\evg_ondar\\Miniconda3\\lib\\site-packages\\sklearn\\tree\\_classes.py\", line 1342, in fit\n",
      "    super().fit(\n",
      "  File \"C:\\Users\\evg_ondar\\Miniconda3\\lib\\site-packages\\sklearn\\tree\\_classes.py\", line 265, in fit\n",
      "    check_scalar(\n",
      "  File \"C:\\Users\\evg_ondar\\Miniconda3\\lib\\site-packages\\sklearn\\utils\\validation.py\", line 1476, in check_scalar\n",
      "    raise ValueError(\n",
      "ValueError: min_samples_split == 1, must be >= 2.\n",
      "\n",
      "--------------------------------------------------------------------------------\n",
      "5 fits failed with the following error:\n",
      "Traceback (most recent call last):\n",
      "  File \"C:\\Users\\evg_ondar\\Miniconda3\\lib\\site-packages\\sklearn\\model_selection\\_validation.py\", line 686, in _fit_and_score\n",
      "    estimator.fit(X_train, y_train, **fit_params)\n",
      "  File \"C:\\Users\\evg_ondar\\Miniconda3\\lib\\site-packages\\sklearn\\ensemble\\_forest.py\", line 476, in fit\n",
      "    trees = Parallel(\n",
      "  File \"C:\\Users\\evg_ondar\\Miniconda3\\lib\\site-packages\\joblib\\parallel.py\", line 1043, in __call__\n",
      "    if self.dispatch_one_batch(iterator):\n",
      "  File \"C:\\Users\\evg_ondar\\Miniconda3\\lib\\site-packages\\joblib\\parallel.py\", line 861, in dispatch_one_batch\n",
      "    self._dispatch(tasks)\n",
      "  File \"C:\\Users\\evg_ondar\\Miniconda3\\lib\\site-packages\\joblib\\parallel.py\", line 779, in _dispatch\n",
      "    job = self._backend.apply_async(batch, callback=cb)\n",
      "  File \"C:\\Users\\evg_ondar\\Miniconda3\\lib\\site-packages\\joblib\\_parallel_backends.py\", line 208, in apply_async\n",
      "    result = ImmediateResult(func)\n",
      "  File \"C:\\Users\\evg_ondar\\Miniconda3\\lib\\site-packages\\joblib\\_parallel_backends.py\", line 572, in __init__\n",
      "    self.results = batch()\n",
      "  File \"C:\\Users\\evg_ondar\\Miniconda3\\lib\\site-packages\\joblib\\parallel.py\", line 262, in __call__\n",
      "    return [func(*args, **kwargs)\n",
      "  File \"C:\\Users\\evg_ondar\\Miniconda3\\lib\\site-packages\\joblib\\parallel.py\", line 262, in <listcomp>\n",
      "    return [func(*args, **kwargs)\n",
      "  File \"C:\\Users\\evg_ondar\\Miniconda3\\lib\\site-packages\\sklearn\\utils\\fixes.py\", line 117, in __call__\n",
      "    return self.function(*args, **kwargs)\n",
      "  File \"C:\\Users\\evg_ondar\\Miniconda3\\lib\\site-packages\\sklearn\\ensemble\\_forest.py\", line 191, in _parallel_build_trees\n",
      "    tree.fit(X, y, sample_weight=sample_weight, check_input=False)\n",
      "  File \"C:\\Users\\evg_ondar\\Miniconda3\\lib\\site-packages\\sklearn\\tree\\_classes.py\", line 1342, in fit\n",
      "    super().fit(\n",
      "  File \"C:\\Users\\evg_ondar\\Miniconda3\\lib\\site-packages\\sklearn\\tree\\_classes.py\", line 265, in fit\n",
      "    check_scalar(\n",
      "  File \"C:\\Users\\evg_ondar\\Miniconda3\\lib\\site-packages\\sklearn\\utils\\validation.py\", line 1476, in check_scalar\n",
      "    raise ValueError(\n",
      "ValueError: min_samples_split == 1, must be >= 2.\n",
      "\n",
      "One or more of the test scores are non-finite: [0.80116165 0.15888537 0.80309102 0.81129085 0.81190838 0.81145385\n",
      " 0.91305175 0.15984102 0.82416171 0.80304631 0.79720976        nan\n",
      " 0.1564489         nan        nan 0.84994098 0.30541947 0.89621102\n",
      " 0.28011846 0.82178514 0.36972214 0.2416249  0.81190838 0.82171922\n",
      " 0.31248503 0.08492883 0.35288388 0.62829344 0.5802631  0.81129085\n",
      " 0.82178818 0.90363321 0.16370758        nan 0.11604058 0.82171922\n",
      " 0.58908971 0.521688   0.87183488        nan 0.82179875 0.82176002\n",
      " 0.21927982 0.89459439 0.31397306 0.70399766 0.23960902 0.91497113\n",
      " 0.85736073 0.74157376 0.82157741 0.85781805 0.84900825 0.88882002\n",
      " 0.37030616 0.58908971 0.91939626 0.53506877 0.85789983 0.4867837\n",
      " 0.45301959 0.69616465 0.89215892 0.84814378 0.89464952 0.50949908\n",
      " 0.23505848 0.02585422        nan 0.13135199 0.42767473 0.05272149\n",
      "        nan 0.23568117 0.89405168 0.24899702 0.11788909 0.72529362\n",
      " 0.23490876 0.24224076 0.61281431 0.86708009 0.84731819 0.88302635\n",
      " 0.81155987 0.02802425 0.88943233 0.83568486 0.85696298 0.9134921\n",
      " 0.35399842 0.88954056 0.45940434 0.61589211 0.80220209 0.88296714\n",
      " 0.246208   0.25083661        nan 0.82423307]\n",
      "`max_features='auto'` has been deprecated in 1.1 and will be removed in 1.3. To keep the past behaviour, explicitly set `max_features=1.0` or remove this parameter as it is also the default value for RandomForestRegressors and ExtraTreesRegressors.\n"
     ]
    },
    {
     "name": "stdout",
     "output_type": "stream",
     "text": [
      "{'warm_start': True, 'n_estimators': 322, 'min_samples_split': 3, 'min_samples_leaf': 1, 'max_features': 'auto', 'max_depth': 33, 'bootstrap': True}\n",
      "Mean of $R**2$ 0.9193962637783514\n",
      "Fitting 5 folds for each of 100 candidates, totalling 500 fits\n"
     ]
    },
    {
     "name": "stderr",
     "output_type": "stream",
     "text": [
      "\n",
      "185 fits failed out of a total of 500.\n",
      "The score on these train-test partitions for these parameters will be set to nan.\n",
      "If these failures are not expected, you can try to debug them by setting error_score='raise'.\n",
      "\n",
      "Below are more details about the failures:\n",
      "--------------------------------------------------------------------------------\n",
      "110 fits failed with the following error:\n",
      "Traceback (most recent call last):\n",
      "  File \"C:\\Users\\evg_ondar\\Miniconda3\\lib\\site-packages\\sklearn\\model_selection\\_validation.py\", line 686, in _fit_and_score\n",
      "    estimator.fit(X_train, y_train, **fit_params)\n",
      "  File \"C:\\Users\\evg_ondar\\Miniconda3\\lib\\site-packages\\sklearn\\kernel_ridge.py\", line 186, in fit\n",
      "    K = self._get_kernel(X)\n",
      "  File \"C:\\Users\\evg_ondar\\Miniconda3\\lib\\site-packages\\sklearn\\kernel_ridge.py\", line 154, in _get_kernel\n",
      "    return pairwise_kernels(X, Y, metric=self.kernel, filter_params=True, **params)\n",
      "  File \"C:\\Users\\evg_ondar\\Miniconda3\\lib\\site-packages\\sklearn\\metrics\\pairwise.py\", line 2151, in pairwise_kernels\n",
      "    raise ValueError(\"Unknown kernel %r\" % metric)\n",
      "ValueError: Unknown kernel 'exponential chi2'\n",
      "\n",
      "--------------------------------------------------------------------------------\n",
      "75 fits failed with the following error:\n",
      "Traceback (most recent call last):\n",
      "  File \"C:\\Users\\evg_ondar\\Miniconda3\\lib\\site-packages\\sklearn\\model_selection\\_validation.py\", line 686, in _fit_and_score\n",
      "    estimator.fit(X_train, y_train, **fit_params)\n",
      "  File \"C:\\Users\\evg_ondar\\Miniconda3\\lib\\site-packages\\sklearn\\kernel_ridge.py\", line 186, in fit\n",
      "    K = self._get_kernel(X)\n",
      "  File \"C:\\Users\\evg_ondar\\Miniconda3\\lib\\site-packages\\sklearn\\kernel_ridge.py\", line 154, in _get_kernel\n",
      "    return pairwise_kernels(X, Y, metric=self.kernel, filter_params=True, **params)\n",
      "  File \"C:\\Users\\evg_ondar\\Miniconda3\\lib\\site-packages\\sklearn\\metrics\\pairwise.py\", line 2151, in pairwise_kernels\n",
      "    raise ValueError(\"Unknown kernel %r\" % metric)\n",
      "ValueError: Unknown kernel 'RBF'\n",
      "\n",
      "One or more of the test scores are non-finite: [            nan -2.63938279e-01 -1.74654973e+13 -2.75981013e+04\n",
      " -6.14474193e+02             nan             nan -1.53811767e+14\n",
      "             nan -2.53891989e+27 -1.68995328e+05             nan\n",
      " -6.96954427e-01             nan  5.19521496e-01 -4.08626067e-01\n",
      " -6.92797507e-01  6.44601728e-01             nan  6.38077164e-02\n",
      " -1.39096211e+00             nan             nan -7.42880258e+06\n",
      "             nan             nan -3.84957092e+06  7.78510257e-01\n",
      " -1.39096212e+00             nan -4.60925624e+07             nan\n",
      " -6.92797507e-01             nan             nan             nan\n",
      "             nan -3.96823057e+01 -7.28950023e+02 -2.72414153e-01\n",
      "             nan             nan -1.73981793e+03 -2.64604059e+12\n",
      "             nan             nan -5.11878262e+05             nan\n",
      " -2.59985326e-01 -2.92604463e-01  3.92925025e-01 -4.87843673e-02\n",
      " -2.63926029e-01 -6.96954427e-01 -1.57778337e+11             nan\n",
      " -8.76520185e-02 -4.09916927e+01 -2.64020691e-01 -1.52013487e+03\n",
      " -3.01350522e-01 -6.65570829e+27 -2.88172771e+01             nan\n",
      "             nan -6.13651092e+04 -2.64519931e-01             nan\n",
      "             nan -8.88000174e+22 -3.48125246e-01             nan\n",
      " -7.95459152e+00 -4.52466613e+05 -8.50247570e+02 -1.92424892e+03\n",
      " -1.41512505e+04             nan             nan -9.69987742e+13\n",
      "  6.31908740e-01  8.18373975e-01 -6.17843801e+02             nan\n",
      "             nan -1.36882286e+03             nan -2.64020691e-01\n",
      "             nan -9.48060658e+01 -2.75473514e-01             nan\n",
      " -1.58215702e+14 -9.71442965e+04  5.77794001e-02 -3.87014746e+01\n",
      "             nan  7.99633839e-01             nan -2.63978064e-01]\n"
     ]
    },
    {
     "name": "stdout",
     "output_type": "stream",
     "text": [
      "{'kernel': 'laplacian', 'gamma': 1e-08, 'degree': 3, 'coef0': 0.9183673469469388, 'alpha': 1e-09}\n",
      "Mean of $R**2$ 0.8183739749391752\n",
      "Fitting 5 folds for each of 100 candidates, totalling 500 fits\n"
     ]
    },
    {
     "name": "stderr",
     "output_type": "stream",
     "text": [
      "\n",
      "9 fits failed out of a total of 500.\n",
      "The score on these train-test partitions for these parameters will be set to nan.\n",
      "If these failures are not expected, you can try to debug them by setting error_score='raise'.\n",
      "\n",
      "Below are more details about the failures:\n",
      "--------------------------------------------------------------------------------\n",
      "9 fits failed with the following error:\n",
      "Traceback (most recent call last):\n",
      "  File \"C:\\Users\\evg_ondar\\Miniconda3\\lib\\site-packages\\sklearn\\model_selection\\_validation.py\", line 686, in _fit_and_score\n",
      "    estimator.fit(X_train, y_train, **fit_params)\n",
      "  File \"C:\\Users\\evg_ondar\\Miniconda3\\lib\\site-packages\\sklearn\\svm\\_base.py\", line 269, in fit\n",
      "    raise ValueError(\n",
      "ValueError: The dual coefficients or intercepts are not finite. The input data may contain large values and need to bepreprocessed.\n",
      "\n",
      "One or more of the test scores are non-finite: [-1.57112806e+01  8.44491463e-01 -7.95916431e+01 -4.70846335e+00\n",
      " -1.57112846e+01 -1.29784595e-01 -1.11931607e+03 -6.14198858e+11\n",
      " -5.60530098e-01             nan -1.16448741e+03 -1.12990383e+03\n",
      " -1.16448741e+03 -3.15160131e+21 -1.26929645e-01 -7.07438553e+08\n",
      " -1.27546803e-01 -1.27550902e-01 -4.82650924e+02 -2.24532297e+19\n",
      " -1.16647642e+03 -1.25488868e-01 -5.64126750e+05             nan\n",
      " -1.27546946e-01 -1.12990383e+03 -1.11931607e+03 -1.57608508e+03\n",
      " -7.84110949e+03             nan  8.44491489e-01 -1.20495805e+04\n",
      " -1.26926852e-01 -1.28743731e-01  8.44504831e-01 -1.12524540e+03\n",
      "  8.71252342e-01 -1.36194117e-01 -1.12990383e+03  8.71251730e-01\n",
      " -7.84055841e+03 -1.12524540e+03 -1.15237826e+03 -1.25373224e-01\n",
      " -9.54651561e+19 -1.25341519e-01 -1.50414326e+98             nan\n",
      " -2.76549705e+03 -2.78764407e-01 -1.36307363e-01 -6.56375445e+01\n",
      " -7.76577362e+07 -1.16448741e+03  6.68615164e-01 -1.22830346e+04\n",
      " -1.31665682e-01 -7.66087103e+07 -1.57118100e+01 -6.95943603e+03\n",
      " -1.25369879e-01 -1.56531901e+01 -3.45074854e+09 -7.84110908e+03\n",
      " -4.82650924e+02 -1.51232107e-01 -7.84110379e+03 -2.30656855e-01\n",
      "  8.44492788e-01 -1.40797393e-01 -1.56709384e+03 -1.26926852e-01\n",
      " -1.05347166e+00 -7.76472817e+07 -1.57468466e+03 -7.59806111e+01\n",
      " -1.27546946e-01 -1.51996344e+09 -7.04963691e+03 -5.42029290e+02\n",
      " -2.79835405e-02 -7.84123267e+03 -2.79890736e-02 -1.12524540e+03\n",
      " -1.26929965e-01 -1.74867902e+03 -1.12524540e+03 -2.89531277e+03\n",
      " -1.82674664e+02  8.44516859e-01 -1.57059914e+01 -1.27546946e-01\n",
      " -5.41792901e+08 -5.82572563e+02 -7.42513131e+05 -1.06732673e+03\n",
      " -9.47990523e+09  8.44491711e-01 -8.39939752e+02 -2.79890727e-02]\n"
     ]
    },
    {
     "name": "stdout",
     "output_type": "stream",
     "text": [
      "{'tol': 0.01, 'kernel': 'rbf', 'gamma': 'auto', 'epsilon': 1e-07, 'degree': 3, 'coef0': 1e-07, 'C': 1000000}\n",
      "Mean of $R**2$ 0.871252342372315\n"
     ]
    }
   ],
   "source": [
    "best_estim = []\n",
    "for i, j in estimators.items():\n",
    "    best_estim.append(tune_hyperparam(i, j, X_train_norm, y_train))"
   ]
  },
  {
   "cell_type": "code",
   "execution_count": 16,
   "id": "40a5d6e9",
   "metadata": {},
   "outputs": [
    {
     "data": {
      "text/plain": [
       "[RandomForestRegressor(max_depth=33, max_features='auto', min_samples_split=3,\n",
       "                       n_estimators=322, random_state=42, warm_start=True),\n",
       " KernelRidge(alpha=1e-09, coef0=0.9183673469469388, gamma=1e-08,\n",
       "             kernel='laplacian'),\n",
       " SVR(C=1000000, coef0=1e-07, epsilon=1e-07, gamma='auto', max_iter=1000000,\n",
       "     tol=0.01)]"
      ]
     },
     "execution_count": 16,
     "metadata": {},
     "output_type": "execute_result"
    }
   ],
   "source": [
    "best_estim"
   ]
  },
  {
   "cell_type": "markdown",
   "id": "50793e9f",
   "metadata": {},
   "source": [
    "### Training and evaluation of models by use of cross-validation"
   ]
  },
  {
   "cell_type": "code",
   "execution_count": 17,
   "id": "b7cc138d",
   "metadata": {},
   "outputs": [
    {
     "name": "stdout",
     "output_type": "stream",
     "text": [
      "Range of chem shifts -6293 : 7090\n"
     ]
    }
   ],
   "source": [
    "print('Range of chem shifts', np.min(y_train), ':', np.max(y_train))"
   ]
  },
  {
   "cell_type": "code",
   "execution_count": 18,
   "id": "815a8be2",
   "metadata": {
    "scrolled": true
   },
   "outputs": [
    {
     "name": "stderr",
     "output_type": "stream",
     "text": [
      "`max_features='auto'` has been deprecated in 1.1 and will be removed in 1.3. To keep the past behaviour, explicitly set `max_features=1.0` or remove this parameter as it is also the default value for RandomForestRegressors and ExtraTreesRegressors.\n",
      "`max_features='auto'` has been deprecated in 1.1 and will be removed in 1.3. To keep the past behaviour, explicitly set `max_features=1.0` or remove this parameter as it is also the default value for RandomForestRegressors and ExtraTreesRegressors.\n",
      "`max_features='auto'` has been deprecated in 1.1 and will be removed in 1.3. To keep the past behaviour, explicitly set `max_features=1.0` or remove this parameter as it is also the default value for RandomForestRegressors and ExtraTreesRegressors.\n",
      "`max_features='auto'` has been deprecated in 1.1 and will be removed in 1.3. To keep the past behaviour, explicitly set `max_features=1.0` or remove this parameter as it is also the default value for RandomForestRegressors and ExtraTreesRegressors.\n"
     ]
    },
    {
     "data": {
      "text/html": [
       "<div>\n",
       "<style scoped>\n",
       "    .dataframe tbody tr th:only-of-type {\n",
       "        vertical-align: middle;\n",
       "    }\n",
       "\n",
       "    .dataframe tbody tr th {\n",
       "        vertical-align: top;\n",
       "    }\n",
       "\n",
       "    .dataframe thead th {\n",
       "        text-align: right;\n",
       "    }\n",
       "</style>\n",
       "<table border=\"1\" class=\"dataframe\">\n",
       "  <thead>\n",
       "    <tr style=\"text-align: right;\">\n",
       "      <th></th>\n",
       "      <th>Mean</th>\n",
       "      <th>Std</th>\n",
       "      <th>Min</th>\n",
       "      <th>Max</th>\n",
       "    </tr>\n",
       "  </thead>\n",
       "  <tbody>\n",
       "    <tr>\n",
       "      <th>RF</th>\n",
       "      <td>0.96</td>\n",
       "      <td>0.01</td>\n",
       "      <td>0.95</td>\n",
       "      <td>0.97</td>\n",
       "    </tr>\n",
       "    <tr>\n",
       "      <th>Ridge regr</th>\n",
       "      <td>0.88</td>\n",
       "      <td>0.03</td>\n",
       "      <td>0.85</td>\n",
       "      <td>0.93</td>\n",
       "    </tr>\n",
       "    <tr>\n",
       "      <th>SVR</th>\n",
       "      <td>0.91</td>\n",
       "      <td>0.07</td>\n",
       "      <td>0.79</td>\n",
       "      <td>0.96</td>\n",
       "    </tr>\n",
       "  </tbody>\n",
       "</table>\n",
       "</div>"
      ],
      "text/plain": [
       "            Mean   Std   Min   Max\n",
       "RF          0.96  0.01  0.95  0.97\n",
       "Ridge regr  0.88  0.03  0.85  0.93\n",
       "SVR         0.91  0.07  0.79  0.96"
      ]
     },
     "execution_count": 18,
     "metadata": {},
     "output_type": "execute_result"
    }
   ],
   "source": [
    "#Determination coefficient\n",
    "res_r2 = []\n",
    "for i in best_estim:\n",
    "    res_r2.append(evaluate(i, X_train_norm, y_train, n_splits=4, scoring='r2'))\n",
    "res_df_r2 = pd.DataFrame(res_r2, index=['RF', 'Ridge regr', 'SVR'])\n",
    "res_df_r2"
   ]
  },
  {
   "cell_type": "code",
   "execution_count": 19,
   "id": "c5dcbd20",
   "metadata": {
    "scrolled": false
   },
   "outputs": [
    {
     "name": "stderr",
     "output_type": "stream",
     "text": [
      "`max_features='auto'` has been deprecated in 1.1 and will be removed in 1.3. To keep the past behaviour, explicitly set `max_features=1.0` or remove this parameter as it is also the default value for RandomForestRegressors and ExtraTreesRegressors.\n",
      "`max_features='auto'` has been deprecated in 1.1 and will be removed in 1.3. To keep the past behaviour, explicitly set `max_features=1.0` or remove this parameter as it is also the default value for RandomForestRegressors and ExtraTreesRegressors.\n",
      "`max_features='auto'` has been deprecated in 1.1 and will be removed in 1.3. To keep the past behaviour, explicitly set `max_features=1.0` or remove this parameter as it is also the default value for RandomForestRegressors and ExtraTreesRegressors.\n",
      "`max_features='auto'` has been deprecated in 1.1 and will be removed in 1.3. To keep the past behaviour, explicitly set `max_features=1.0` or remove this parameter as it is also the default value for RandomForestRegressors and ExtraTreesRegressors.\n"
     ]
    },
    {
     "data": {
      "text/html": [
       "<div>\n",
       "<style scoped>\n",
       "    .dataframe tbody tr th:only-of-type {\n",
       "        vertical-align: middle;\n",
       "    }\n",
       "\n",
       "    .dataframe tbody tr th {\n",
       "        vertical-align: top;\n",
       "    }\n",
       "\n",
       "    .dataframe thead th {\n",
       "        text-align: right;\n",
       "    }\n",
       "</style>\n",
       "<table border=\"1\" class=\"dataframe\">\n",
       "  <thead>\n",
       "    <tr style=\"text-align: right;\">\n",
       "      <th></th>\n",
       "      <th>Mean</th>\n",
       "      <th>Std</th>\n",
       "      <th>Min</th>\n",
       "      <th>Max</th>\n",
       "    </tr>\n",
       "  </thead>\n",
       "  <tbody>\n",
       "    <tr>\n",
       "      <th>RF</th>\n",
       "      <td>277.99</td>\n",
       "      <td>61.27</td>\n",
       "      <td>206.72</td>\n",
       "      <td>356.48</td>\n",
       "    </tr>\n",
       "    <tr>\n",
       "      <th>Ridge regr</th>\n",
       "      <td>594.26</td>\n",
       "      <td>136.58</td>\n",
       "      <td>376.47</td>\n",
       "      <td>753.84</td>\n",
       "    </tr>\n",
       "    <tr>\n",
       "      <th>SVR</th>\n",
       "      <td>503.72</td>\n",
       "      <td>81.54</td>\n",
       "      <td>398.39</td>\n",
       "      <td>600.90</td>\n",
       "    </tr>\n",
       "  </tbody>\n",
       "</table>\n",
       "</div>"
      ],
      "text/plain": [
       "              Mean     Std     Min     Max\n",
       "RF          277.99   61.27  206.72  356.48\n",
       "Ridge regr  594.26  136.58  376.47  753.84\n",
       "SVR         503.72   81.54  398.39  600.90"
      ]
     },
     "execution_count": 19,
     "metadata": {},
     "output_type": "execute_result"
    }
   ],
   "source": [
    "#MAE\n",
    "res_mae = []\n",
    "for i in best_estim:\n",
    "    res_mae.append(evaluate(i, X_train_norm, y_train, n_splits=4, scoring='neg_mean_absolute_error'))\n",
    "res_df_mae = pd.DataFrame(res_mae, index=['RF', 'Ridge regr', 'SVR'])\n",
    "res_df_mae"
   ]
  },
  {
   "cell_type": "code",
   "execution_count": 20,
   "id": "333b138c",
   "metadata": {},
   "outputs": [
    {
     "name": "stderr",
     "output_type": "stream",
     "text": [
      "`max_features='auto'` has been deprecated in 1.1 and will be removed in 1.3. To keep the past behaviour, explicitly set `max_features=1.0` or remove this parameter as it is also the default value for RandomForestRegressors and ExtraTreesRegressors.\n",
      "`max_features='auto'` has been deprecated in 1.1 and will be removed in 1.3. To keep the past behaviour, explicitly set `max_features=1.0` or remove this parameter as it is also the default value for RandomForestRegressors and ExtraTreesRegressors.\n",
      "`max_features='auto'` has been deprecated in 1.1 and will be removed in 1.3. To keep the past behaviour, explicitly set `max_features=1.0` or remove this parameter as it is also the default value for RandomForestRegressors and ExtraTreesRegressors.\n",
      "`max_features='auto'` has been deprecated in 1.1 and will be removed in 1.3. To keep the past behaviour, explicitly set `max_features=1.0` or remove this parameter as it is also the default value for RandomForestRegressors and ExtraTreesRegressors.\n"
     ]
    },
    {
     "data": {
      "text/html": [
       "<div>\n",
       "<style scoped>\n",
       "    .dataframe tbody tr th:only-of-type {\n",
       "        vertical-align: middle;\n",
       "    }\n",
       "\n",
       "    .dataframe tbody tr th {\n",
       "        vertical-align: top;\n",
       "    }\n",
       "\n",
       "    .dataframe thead th {\n",
       "        text-align: right;\n",
       "    }\n",
       "</style>\n",
       "<table border=\"1\" class=\"dataframe\">\n",
       "  <thead>\n",
       "    <tr style=\"text-align: right;\">\n",
       "      <th></th>\n",
       "      <th>Mean</th>\n",
       "      <th>Std</th>\n",
       "      <th>Min</th>\n",
       "      <th>Max</th>\n",
       "    </tr>\n",
       "  </thead>\n",
       "  <tbody>\n",
       "    <tr>\n",
       "      <th>RF</th>\n",
       "      <td>455.02</td>\n",
       "      <td>74.12</td>\n",
       "      <td>329.8</td>\n",
       "      <td>512.28</td>\n",
       "    </tr>\n",
       "    <tr>\n",
       "      <th>Ridge regr</th>\n",
       "      <td>761.30</td>\n",
       "      <td>138.78</td>\n",
       "      <td>562.1</td>\n",
       "      <td>951.43</td>\n",
       "    </tr>\n",
       "    <tr>\n",
       "      <th>SVR</th>\n",
       "      <td>612.25</td>\n",
       "      <td>111.29</td>\n",
       "      <td>485.6</td>\n",
       "      <td>759.13</td>\n",
       "    </tr>\n",
       "  </tbody>\n",
       "</table>\n",
       "</div>"
      ],
      "text/plain": [
       "              Mean     Std    Min     Max\n",
       "RF          455.02   74.12  329.8  512.28\n",
       "Ridge regr  761.30  138.78  562.1  951.43\n",
       "SVR         612.25  111.29  485.6  759.13"
      ]
     },
     "execution_count": 20,
     "metadata": {},
     "output_type": "execute_result"
    }
   ],
   "source": [
    "#RMSE\n",
    "res_rmse = []\n",
    "for i in best_estim:\n",
    "    res_rmse.append(evaluate(i, X_train_norm, y_train, n_splits=4, scoring='neg_mean_squared_error'))\n",
    "res_df_rmse = pd.DataFrame(res_rmse, index=['RF', 'Ridge regr', 'SVR'])\n",
    "res_df_rmse"
   ]
  },
  {
   "cell_type": "code",
   "execution_count": 21,
   "id": "0cc5c648",
   "metadata": {
    "scrolled": true
   },
   "outputs": [
    {
     "name": "stdout",
     "output_type": "stream",
     "text": [
      "RandomForestRegressor(max_depth=33, max_features='auto', min_samples_split=3,\n",
      "                      n_estimators=322, random_state=42, warm_start=True)\n"
     ]
    },
    {
     "data": {
      "image/png": "[encoded data removed]",
      "text/plain": [
       "<Figure size 576x576 with 1 Axes>"
      ]
     },
     "metadata": {
      "needs_background": "light"
     },
     "output_type": "display_data"
    },
    {
     "name": "stdout",
     "output_type": "stream",
     "text": [
      "RMSE = 190.89 ppm \n",
      " MAE = 111.10 ppm \n",
      " $R^2$ = 0.99\n",
      "\n",
      "\n",
      "KernelRidge(alpha=1e-09, coef0=0.9183673469469388, gamma=1e-08,\n",
      "            kernel='laplacian')\n"
     ]
    },
    {
     "data": {
      "image/png": "[encoded data removed]",
      "text/plain": [
       "<Figure size 576x576 with 1 Axes>"
      ]
     },
     "metadata": {
      "needs_background": "light"
     },
     "output_type": "display_data"
    },
    {
     "name": "stdout",
     "output_type": "stream",
     "text": [
      "RMSE = 3.54 ppm \n",
      " MAE = 1.67 ppm \n",
      " $R^2$ = 1.00\n",
      "\n",
      "\n",
      "SVR(C=1000000, coef0=1e-07, epsilon=1e-07, gamma='auto', max_iter=1000000,\n",
      "    tol=0.01)\n"
     ]
    },
    {
     "data": {
      "image/png": "[encoded data removed]",
      "text/plain": [
       "<Figure size 576x576 with 1 Axes>"
      ]
     },
     "metadata": {
      "needs_background": "light"
     },
     "output_type": "display_data"
    },
    {
     "name": "stdout",
     "output_type": "stream",
     "text": [
      "RMSE = 91.21 ppm \n",
      " MAE = 26.75 ppm \n",
      " $R^2$ = 1.00\n",
      "\n",
      "\n"
     ]
    }
   ],
   "source": [
    "for i in best_estim:\n",
    "    print(i)\n",
    "    plot_correlation(i, X_train_norm, y_train,)\n",
    "    print('\\n')"
   ]
  },
  {
   "cell_type": "code",
   "execution_count": 22,
   "id": "52fa4b8d",
   "metadata": {
    "scrolled": true
   },
   "outputs": [
    {
     "name": "stdout",
     "output_type": "stream",
     "text": [
      "RandomForestRegressor(max_depth=33, max_features='auto', min_samples_split=3,\n",
      "                      n_estimators=322, random_state=42, warm_start=True)\n"
     ]
    },
    {
     "name": "stderr",
     "output_type": "stream",
     "text": [
      "`max_features='auto'` has been deprecated in 1.1 and will be removed in 1.3. To keep the past behaviour, explicitly set `max_features=1.0` or remove this parameter as it is also the default value for RandomForestRegressors and ExtraTreesRegressors.\n",
      "`max_features='auto'` has been deprecated in 1.1 and will be removed in 1.3. To keep the past behaviour, explicitly set `max_features=1.0` or remove this parameter as it is also the default value for RandomForestRegressors and ExtraTreesRegressors.\n",
      "`max_features='auto'` has been deprecated in 1.1 and will be removed in 1.3. To keep the past behaviour, explicitly set `max_features=1.0` or remove this parameter as it is also the default value for RandomForestRegressors and ExtraTreesRegressors.\n",
      "`max_features='auto'` has been deprecated in 1.1 and will be removed in 1.3. To keep the past behaviour, explicitly set `max_features=1.0` or remove this parameter as it is also the default value for RandomForestRegressors and ExtraTreesRegressors.\n",
      "`max_features='auto'` has been deprecated in 1.1 and will be removed in 1.3. To keep the past behaviour, explicitly set `max_features=1.0` or remove this parameter as it is also the default value for RandomForestRegressors and ExtraTreesRegressors.\n",
      "`max_features='auto'` has been deprecated in 1.1 and will be removed in 1.3. To keep the past behaviour, explicitly set `max_features=1.0` or remove this parameter as it is also the default value for RandomForestRegressors and ExtraTreesRegressors.\n",
      "`max_features='auto'` has been deprecated in 1.1 and will be removed in 1.3. To keep the past behaviour, explicitly set `max_features=1.0` or remove this parameter as it is also the default value for RandomForestRegressors and ExtraTreesRegressors.\n",
      "`max_features='auto'` has been deprecated in 1.1 and will be removed in 1.3. To keep the past behaviour, explicitly set `max_features=1.0` or remove this parameter as it is also the default value for RandomForestRegressors and ExtraTreesRegressors.\n",
      "`max_features='auto'` has been deprecated in 1.1 and will be removed in 1.3. To keep the past behaviour, explicitly set `max_features=1.0` or remove this parameter as it is also the default value for RandomForestRegressors and ExtraTreesRegressors.\n",
      "`max_features='auto'` has been deprecated in 1.1 and will be removed in 1.3. To keep the past behaviour, explicitly set `max_features=1.0` or remove this parameter as it is also the default value for RandomForestRegressors and ExtraTreesRegressors.\n",
      "`max_features='auto'` has been deprecated in 1.1 and will be removed in 1.3. To keep the past behaviour, explicitly set `max_features=1.0` or remove this parameter as it is also the default value for RandomForestRegressors and ExtraTreesRegressors.\n",
      "`max_features='auto'` has been deprecated in 1.1 and will be removed in 1.3. To keep the past behaviour, explicitly set `max_features=1.0` or remove this parameter as it is also the default value for RandomForestRegressors and ExtraTreesRegressors.\n",
      "`max_features='auto'` has been deprecated in 1.1 and will be removed in 1.3. To keep the past behaviour, explicitly set `max_features=1.0` or remove this parameter as it is also the default value for RandomForestRegressors and ExtraTreesRegressors.\n",
      "`max_features='auto'` has been deprecated in 1.1 and will be removed in 1.3. To keep the past behaviour, explicitly set `max_features=1.0` or remove this parameter as it is also the default value for RandomForestRegressors and ExtraTreesRegressors.\n",
      "`max_features='auto'` has been deprecated in 1.1 and will be removed in 1.3. To keep the past behaviour, explicitly set `max_features=1.0` or remove this parameter as it is also the default value for RandomForestRegressors and ExtraTreesRegressors.\n",
      "`max_features='auto'` has been deprecated in 1.1 and will be removed in 1.3. To keep the past behaviour, explicitly set `max_features=1.0` or remove this parameter as it is also the default value for RandomForestRegressors and ExtraTreesRegressors.\n",
      "`max_features='auto'` has been deprecated in 1.1 and will be removed in 1.3. To keep the past behaviour, explicitly set `max_features=1.0` or remove this parameter as it is also the default value for RandomForestRegressors and ExtraTreesRegressors.\n",
      "`max_features='auto'` has been deprecated in 1.1 and will be removed in 1.3. To keep the past behaviour, explicitly set `max_features=1.0` or remove this parameter as it is also the default value for RandomForestRegressors and ExtraTreesRegressors.\n",
      "`max_features='auto'` has been deprecated in 1.1 and will be removed in 1.3. To keep the past behaviour, explicitly set `max_features=1.0` or remove this parameter as it is also the default value for RandomForestRegressors and ExtraTreesRegressors.\n",
      "`max_features='auto'` has been deprecated in 1.1 and will be removed in 1.3. To keep the past behaviour, explicitly set `max_features=1.0` or remove this parameter as it is also the default value for RandomForestRegressors and ExtraTreesRegressors.\n"
     ]
    },
    {
     "data": {
      "image/png": "[encoded data removed]",
      "text/plain": [
       "<Figure size 432x432 with 1 Axes>"
      ]
     },
     "metadata": {
      "needs_background": "light"
     },
     "output_type": "display_data"
    },
    {
     "name": "stdout",
     "output_type": "stream",
     "text": [
      "KernelRidge(alpha=1e-09, coef0=0.9183673469469388, gamma=1e-08,\n",
      "            kernel='laplacian')\n"
     ]
    },
    {
     "data": {
      "image/png": "[encoded data removed]",
      "text/plain": [
       "<Figure size 432x432 with 1 Axes>"
      ]
     },
     "metadata": {
      "needs_background": "light"
     },
     "output_type": "display_data"
    },
    {
     "name": "stdout",
     "output_type": "stream",
     "text": [
      "SVR(C=1000000, coef0=1e-07, epsilon=1e-07, gamma='auto', max_iter=1000000,\n",
      "    tol=0.01)\n"
     ]
    },
    {
     "data": {
      "image/png": "[encoded data removed]",
      "text/plain": [
       "<Figure size 432x432 with 1 Axes>"
      ]
     },
     "metadata": {
      "needs_background": "light"
     },
     "output_type": "display_data"
    }
   ],
   "source": [
    "#Learning curves train vs. validation\n",
    "for i in best_estim:\n",
    "    print(i)\n",
    "    train_sizes, train_scores, test_scores, fit_times, _ = learning_curve(i, X_train_norm, y_train, cv=4,return_times=True, scoring='r2')\n",
    "    fig, ax = plt.subplots(figsize=(6,6))\n",
    "    plt.plot(train_sizes,np.mean(train_scores,axis=1), color='r', label='Train')\n",
    "    plt.plot(train_sizes,np.mean(test_scores,axis=1), color='blue', label='Validation')\n",
    "    plt.ylabel('$R^2$')\n",
    "    plt.xlabel('Training set size')\n",
    "    plt.ylim(-0.05,1.05)\n",
    "    plt.legend()\n",
    "    plt.show()\n",
    "    fig.savefig('slatm_learning curve {}.png'.format(str(i)[:10]), dpi=300, bbox_inches = 'tight')\n",
    "\n"
   ]
  },
  {
   "cell_type": "markdown",
   "id": "44ae17f1",
   "metadata": {},
   "source": [
    "## Test the model on held-out data"
   ]
  },
  {
   "cell_type": "code",
   "execution_count": 23,
   "id": "b0eb8a53",
   "metadata": {
    "scrolled": false
   },
   "outputs": [
    {
     "name": "stdout",
     "output_type": "stream",
     "text": [
      "RandomForestRegressor(max_depth=33, max_features='auto', min_samples_split=3,\n",
      "                      n_estimators=322, random_state=42, warm_start=True)\n"
     ]
    },
    {
     "data": {
      "image/png": "[encoded data removed]",
      "text/plain": [
       "<Figure size 576x576 with 1 Axes>"
      ]
     },
     "metadata": {
      "needs_background": "light"
     },
     "output_type": "display_data"
    },
    {
     "name": "stdout",
     "output_type": "stream",
     "text": [
      "RMSE = 331.53 ppm \n",
      " MAE = 271.90 ppm \n",
      " $R^2$ = 0.98\n",
      "\n",
      "\n",
      "KernelRidge(alpha=1e-09, coef0=0.9183673469469388, gamma=1e-08,\n",
      "            kernel='laplacian')\n"
     ]
    },
    {
     "data": {
      "image/png": "[encoded data removed]",
      "text/plain": [
       "<Figure size 576x576 with 1 Axes>"
      ]
     },
     "metadata": {
      "needs_background": "light"
     },
     "output_type": "display_data"
    },
    {
     "name": "stdout",
     "output_type": "stream",
     "text": [
      "RMSE = 747.28 ppm \n",
      " MAE = 508.07 ppm \n",
      " $R^2$ = 0.90\n",
      "\n",
      "\n",
      "SVR(C=1000000, coef0=1e-07, epsilon=1e-07, gamma='auto', max_iter=1000000,\n",
      "    tol=0.01)\n"
     ]
    },
    {
     "data": {
      "image/png": "[encoded data removed]",
      "text/plain": [
       "<Figure size 576x576 with 1 Axes>"
      ]
     },
     "metadata": {
      "needs_background": "light"
     },
     "output_type": "display_data"
    },
    {
     "name": "stdout",
     "output_type": "stream",
     "text": [
      "RMSE = 577.20 ppm \n",
      " MAE = 374.96 ppm \n",
      " $R^2$ = 0.94\n",
      "\n",
      "\n"
     ]
    }
   ],
   "source": [
    "for i in best_estim:\n",
    "    print(i)\n",
    "    plot_correlation(i, X_test_norm, y_test)\n",
    "    print('\\n')"
   ]
  },
  {
   "cell_type": "markdown",
   "id": "3caea616",
   "metadata": {},
   "source": [
    "## Models explanation"
   ]
  },
  {
   "cell_type": "code",
   "execution_count": null,
   "id": "bd0b65f1",
   "metadata": {},
   "outputs": [],
   "source": [
    "shap.initjs()\n",
    "columns"
   ]
  },
  {
   "cell_type": "markdown",
   "id": "f3e35737",
   "metadata": {},
   "source": [
    "### Random Forest"
   ]
  },
  {
   "cell_type": "code",
   "execution_count": null,
   "id": "bb47f7dd",
   "metadata": {
    "scrolled": false
   },
   "outputs": [],
   "source": [
    "explainer_rf = shap.TreeExplainer(model=best_estim[0])\n",
    "shap_values_rf = explainer_rf.shap_values(X_train_norm[0])\n",
    "\n",
    "shap.force_plot(base_value=explainer_rf.expected_value, shap_values=shap_values_rf,\n",
    "                features=X_train_norm[0], feature_names=columns)"
   ]
  },
  {
   "cell_type": "code",
   "execution_count": null,
   "id": "885d3b2a",
   "metadata": {},
   "outputs": [],
   "source": [
    "explainer_rf = shap.TreeExplainer(model=best_estim[0])\n",
    "shap_values_rf = explainer_rf(X_train_norm)\n",
    "shap.summary_plot(shap_values_rf, X_train_norm, feature_names=columns, show=False)\n",
    "plt.savefig('shap_random_forest.png', format='png', dpi=600, bbox_inches='tight')\n",
    "plt.show()"
   ]
  },
  {
   "cell_type": "markdown",
   "id": "b209d7f3",
   "metadata": {},
   "source": [
    "### Laplacian kernel ridge regression"
   ]
  },
  {
   "cell_type": "code",
   "execution_count": null,
   "id": "7c8c7d7b",
   "metadata": {
    "scrolled": true
   },
   "outputs": [],
   "source": [
    "explainer_ridge = shap.KernelExplainer(model=best_estim[1].predict, data=X_train_norm)\n",
    "shap_values_ridge = explainer_ridge.shap_values(X_test_norm[0])\n",
    "\n",
    "shap.force_plot(base_value=explainer_ridge.expected_value, shap_values=shap_values_ridge,\n",
    "                features=X_test_norm[0], feature_names=columns)"
   ]
  },
  {
   "cell_type": "code",
   "execution_count": null,
   "id": "f5f2f39c",
   "metadata": {
    "scrolled": true
   },
   "outputs": [],
   "source": [
    "shap_values_ridge = explainer_ridge.shap_values(X_train_norm)\n",
    "shap.summary_plot(shap_values_ridge, X_train_norm, feature_names = columns, show=False)\n",
    "plt.savefig('shap_kernel.png', format='png', dpi=600, bbox_inches='tight')\n",
    "plt.show()"
   ]
  },
  {
   "cell_type": "markdown",
   "id": "d1c1aadc",
   "metadata": {},
   "source": [
    "### SVR"
   ]
  },
  {
   "cell_type": "code",
   "execution_count": null,
   "id": "eb4551f7",
   "metadata": {
    "scrolled": true
   },
   "outputs": [],
   "source": [
    "explainer_svr = shap.KernelExplainer(model=best_estim[2].predict, data=X_train_norm)\n",
    "shap_values_svr = explainer_svr.shap_values(X_train_norm[0])\n",
    "\n",
    "shap.force_plot(base_value=explainer_svr.expected_value, shap_values=shap_values_svr,\n",
    "                features=X_train_norm[0], feature_names=columns)"
   ]
  },
  {
   "cell_type": "code",
   "execution_count": null,
   "id": "66a0d989",
   "metadata": {
    "scrolled": true
   },
   "outputs": [],
   "source": [
    "shap_values_svr = explainer_svr.shap_values(X_train_norm)\n",
    "shap.summary_plot(shap_values_svr, X_train_norm, feature_names = columns, show=False)\n",
    "plt.savefig('shap_svr.png', format='png', dpi=600, bbox_inches='tight')\n",
    "plt.show()"
   ]
  },
  {
   "cell_type": "code",
   "execution_count": null,
   "id": "0c08f2ba",
   "metadata": {},
   "outputs": [],
   "source": []
  }
 ],
 "metadata": {
  "kernelspec": {
   "display_name": "Python 3 (ipykernel)",
   "language": "python",
   "name": "python3"
  },
  "language_info": {
   "codemirror_mode": {
    "name": "ipython",
    "version": 3
   },
   "file_extension": ".py",
   "mimetype": "text/x-python",
   "name": "python",
   "nbconvert_exporter": "python",
   "pygments_lexer": "ipython3",
   "version": "3.9.5"
  }
 },
 "nbformat": 4,
 "nbformat_minor": 5
}
