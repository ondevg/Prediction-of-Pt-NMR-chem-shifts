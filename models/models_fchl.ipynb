{
 "cells": [
  {
   "cell_type": "code",
   "execution_count": 1,
   "id": "92b7a49b",
   "metadata": {},
   "outputs": [],
   "source": [
    "import pandas as pd\n",
    "import matplotlib.pyplot as plt\n",
    "import seaborn as sns\n",
    "from sklearn.model_selection import train_test_split, learning_curve\n",
    "from sklearn.metrics import mean_squared_error, mean_absolute_error, r2_score\n",
    "from sklearn.ensemble import RandomForestRegressor\n",
    "from sklearn.kernel_ridge import KernelRidge\n",
    "from math import sqrt\n",
    "import numpy as np\n",
    "from sklearn.svm import SVR\n",
    "from sklearn.model_selection import RandomizedSearchCV, cross_val_score\n",
    "from sklearn.preprocessing import StandardScaler\n",
    "from sklearn.model_selection import learning_curve\n",
    "from sklearn.model_selection import ShuffleSplit\n",
    "# pd.set_option(\"display.max_rows\", None)\n",
    "# pd.set_option(\"display.max_columns\", None)\n",
    "import shap"
   ]
  },
  {
   "cell_type": "markdown",
   "id": "d1ce1d93",
   "metadata": {},
   "source": [
    "## Data preparation"
   ]
  },
  {
   "cell_type": "code",
   "execution_count": 2,
   "id": "48fce438",
   "metadata": {
    "scrolled": false
   },
   "outputs": [
    {
     "data": {
      "text/html": [
       "<div>\n",
       "<style scoped>\n",
       "    .dataframe tbody tr th:only-of-type {\n",
       "        vertical-align: middle;\n",
       "    }\n",
       "\n",
       "    .dataframe tbody tr th {\n",
       "        vertical-align: top;\n",
       "    }\n",
       "\n",
       "    .dataframe thead th {\n",
       "        text-align: right;\n",
       "    }\n",
       "</style>\n",
       "<table border=\"1\" class=\"dataframe\">\n",
       "  <thead>\n",
       "    <tr style=\"text-align: right;\">\n",
       "      <th></th>\n",
       "      <th>Complex ID</th>\n",
       "      <th>1</th>\n",
       "      <th>2</th>\n",
       "      <th>3</th>\n",
       "      <th>4</th>\n",
       "      <th>5</th>\n",
       "      <th>6</th>\n",
       "      <th>7</th>\n",
       "      <th>8</th>\n",
       "      <th>9</th>\n",
       "      <th>...</th>\n",
       "      <th>Charge</th>\n",
       "      <th>Shift</th>\n",
       "      <th>Dipole_point_q</th>\n",
       "      <th>q</th>\n",
       "      <th>Brutto</th>\n",
       "      <th>Charge_class</th>\n",
       "      <th>Geometry</th>\n",
       "      <th>Ligand</th>\n",
       "      <th>Smiles</th>\n",
       "      <th>Source_doi</th>\n",
       "    </tr>\n",
       "  </thead>\n",
       "  <tbody>\n",
       "    <tr>\n",
       "      <th>0</th>\n",
       "      <td>4</td>\n",
       "      <td>2.33</td>\n",
       "      <td>17.0</td>\n",
       "      <td>0.0101</td>\n",
       "      <td>2.33000</td>\n",
       "      <td>-0.04390</td>\n",
       "      <td>2.33</td>\n",
       "      <td>17.0</td>\n",
       "      <td>-0.0106</td>\n",
       "      <td>-2.330</td>\n",
       "      <td>...</td>\n",
       "      <td>-2000</td>\n",
       "      <td>-1630</td>\n",
       "      <td>16.713013</td>\n",
       "      <td>91.0</td>\n",
       "      <td>[PtCl4]2-</td>\n",
       "      <td>anion</td>\n",
       "      <td>sq-pl</td>\n",
       "      <td>hal</td>\n",
       "      <td>Cl[Pt@SP1](Cl)(Cl)Cl</td>\n",
       "      <td>https://doi.org/10.1002/ejic.201600573</td>\n",
       "    </tr>\n",
       "    <tr>\n",
       "      <th>1</th>\n",
       "      <td>5</td>\n",
       "      <td>2.34</td>\n",
       "      <td>17.0</td>\n",
       "      <td>2.3400</td>\n",
       "      <td>0.00314</td>\n",
       "      <td>0.00906</td>\n",
       "      <td>2.34</td>\n",
       "      <td>17.0</td>\n",
       "      <td>0.0581</td>\n",
       "      <td>2.340</td>\n",
       "      <td>...</td>\n",
       "      <td>-2000</td>\n",
       "      <td>-1842</td>\n",
       "      <td>770.758366</td>\n",
       "      <td>56.0</td>\n",
       "      <td>[PtCl3Br]2-</td>\n",
       "      <td>anion</td>\n",
       "      <td>sq-pl</td>\n",
       "      <td>hal</td>\n",
       "      <td>Cl[Pt@SP1](Cl)(Cl)Br</td>\n",
       "      <td>https://doi.org/10.1002/ejic.201600573</td>\n",
       "    </tr>\n",
       "    <tr>\n",
       "      <th>2</th>\n",
       "      <td>6</td>\n",
       "      <td>2.36</td>\n",
       "      <td>17.0</td>\n",
       "      <td>2.2300</td>\n",
       "      <td>0.59600</td>\n",
       "      <td>-0.46300</td>\n",
       "      <td>2.36</td>\n",
       "      <td>17.0</td>\n",
       "      <td>-2.2300</td>\n",
       "      <td>-0.596</td>\n",
       "      <td>...</td>\n",
       "      <td>0</td>\n",
       "      <td>-2090</td>\n",
       "      <td>0.254180</td>\n",
       "      <td>26.0</td>\n",
       "      <td>trans-[PtCl2Br2]</td>\n",
       "      <td>neutral</td>\n",
       "      <td>sq-pl</td>\n",
       "      <td>hal</td>\n",
       "      <td>Br[Pt@SP1](Cl)(Br)Cl</td>\n",
       "      <td>https://doi.org/10.1002/ejic.201600573</td>\n",
       "    </tr>\n",
       "    <tr>\n",
       "      <th>3</th>\n",
       "      <td>7</td>\n",
       "      <td>2.35</td>\n",
       "      <td>17.0</td>\n",
       "      <td>2.3200</td>\n",
       "      <td>0.19000</td>\n",
       "      <td>0.30800</td>\n",
       "      <td>2.35</td>\n",
       "      <td>17.0</td>\n",
       "      <td>0.3060</td>\n",
       "      <td>-2.330</td>\n",
       "      <td>...</td>\n",
       "      <td>0</td>\n",
       "      <td>-2103</td>\n",
       "      <td>1003.165338</td>\n",
       "      <td>18.0</td>\n",
       "      <td>cis-[PtCl2Br2]</td>\n",
       "      <td>neutral</td>\n",
       "      <td>sq-pl</td>\n",
       "      <td>hal</td>\n",
       "      <td>Cl[Pt@SP1](Cl)(Br)[Br]</td>\n",
       "      <td>https://doi.org/10.1002/ejic.201600573</td>\n",
       "    </tr>\n",
       "    <tr>\n",
       "      <th>4</th>\n",
       "      <td>8</td>\n",
       "      <td>2.32</td>\n",
       "      <td>17.0</td>\n",
       "      <td>2.3200</td>\n",
       "      <td>-0.01040</td>\n",
       "      <td>0.00478</td>\n",
       "      <td>2.35</td>\n",
       "      <td>17.0</td>\n",
       "      <td>0.1010</td>\n",
       "      <td>2.350</td>\n",
       "      <td>...</td>\n",
       "      <td>-2000</td>\n",
       "      <td>-2346</td>\n",
       "      <td>1414.192862</td>\n",
       "      <td>-6.0</td>\n",
       "      <td>[PtCl3I]2-</td>\n",
       "      <td>anion</td>\n",
       "      <td>sq-pl</td>\n",
       "      <td>hal</td>\n",
       "      <td>Cl[Pt@SP1](Cl)(Cl)I</td>\n",
       "      <td>https://doi.org/10.1002/ejic.201600573</td>\n",
       "    </tr>\n",
       "    <tr>\n",
       "      <th>...</th>\n",
       "      <td>...</td>\n",
       "      <td>...</td>\n",
       "      <td>...</td>\n",
       "      <td>...</td>\n",
       "      <td>...</td>\n",
       "      <td>...</td>\n",
       "      <td>...</td>\n",
       "      <td>...</td>\n",
       "      <td>...</td>\n",
       "      <td>...</td>\n",
       "      <td>...</td>\n",
       "      <td>...</td>\n",
       "      <td>...</td>\n",
       "      <td>...</td>\n",
       "      <td>...</td>\n",
       "      <td>...</td>\n",
       "      <td>...</td>\n",
       "      <td>...</td>\n",
       "      <td>...</td>\n",
       "      <td>...</td>\n",
       "      <td>...</td>\n",
       "    </tr>\n",
       "    <tr>\n",
       "      <th>117</th>\n",
       "      <td>545</td>\n",
       "      <td>2.07</td>\n",
       "      <td>7.0</td>\n",
       "      <td>2.0500</td>\n",
       "      <td>-0.21200</td>\n",
       "      <td>-0.17800</td>\n",
       "      <td>2.07</td>\n",
       "      <td>7.0</td>\n",
       "      <td>-2.0500</td>\n",
       "      <td>0.212</td>\n",
       "      <td>...</td>\n",
       "      <td>0</td>\n",
       "      <td>-3372</td>\n",
       "      <td>2.934876</td>\n",
       "      <td>-191.0</td>\n",
       "      <td>trans-[Pt(NH3)2I2]</td>\n",
       "      <td>neutral</td>\n",
       "      <td>sq-pl</td>\n",
       "      <td>hal-org</td>\n",
       "      <td>[Pt@SP1]([NH3+])(I)([NH3+])I</td>\n",
       "      <td>https://doi.org/10.1002/ejic.202000474</td>\n",
       "    </tr>\n",
       "    <tr>\n",
       "      <th>118</th>\n",
       "      <td>546</td>\n",
       "      <td>2.16</td>\n",
       "      <td>7.0</td>\n",
       "      <td>-2.1500</td>\n",
       "      <td>-0.22900</td>\n",
       "      <td>0.05290</td>\n",
       "      <td>2.18</td>\n",
       "      <td>17.0</td>\n",
       "      <td>2.1700</td>\n",
       "      <td>0.232</td>\n",
       "      <td>...</td>\n",
       "      <td>-1000</td>\n",
       "      <td>-1884</td>\n",
       "      <td>1282.595422</td>\n",
       "      <td>219.0</td>\n",
       "      <td>[Pt(NH3)Cl3]-</td>\n",
       "      <td>anion</td>\n",
       "      <td>sq-pl</td>\n",
       "      <td>hal-org</td>\n",
       "      <td>[Pt@SP1]([NH3+])(Cl)(Cl)Cl</td>\n",
       "      <td>https://doi.org/10.1002/ejic.202000474</td>\n",
       "    </tr>\n",
       "    <tr>\n",
       "      <th>119</th>\n",
       "      <td>547</td>\n",
       "      <td>1.90</td>\n",
       "      <td>7.0</td>\n",
       "      <td>-1.8700</td>\n",
       "      <td>0.07830</td>\n",
       "      <td>0.28500</td>\n",
       "      <td>2.34</td>\n",
       "      <td>35.0</td>\n",
       "      <td>0.4750</td>\n",
       "      <td>-1.940</td>\n",
       "      <td>...</td>\n",
       "      <td>-1000</td>\n",
       "      <td>-2534</td>\n",
       "      <td>598.143687</td>\n",
       "      <td>185.0</td>\n",
       "      <td>[Pt(NH3)Br3]-</td>\n",
       "      <td>anion</td>\n",
       "      <td>sq-pl</td>\n",
       "      <td>hal-org</td>\n",
       "      <td>[Pt@SP1]([NH3+])(Br)(Br)Br</td>\n",
       "      <td>https://doi.org/10.1002/ejic.202000474</td>\n",
       "    </tr>\n",
       "    <tr>\n",
       "      <th>120</th>\n",
       "      <td>548</td>\n",
       "      <td>2.19</td>\n",
       "      <td>17.0</td>\n",
       "      <td>-0.2590</td>\n",
       "      <td>-1.00000</td>\n",
       "      <td>1.93000</td>\n",
       "      <td>2.22</td>\n",
       "      <td>7.0</td>\n",
       "      <td>0.2800</td>\n",
       "      <td>1.010</td>\n",
       "      <td>...</td>\n",
       "      <td>-1000</td>\n",
       "      <td>-3298</td>\n",
       "      <td>1269.126886</td>\n",
       "      <td>55.0</td>\n",
       "      <td>trans-[Pt(NH3)ClI2]-</td>\n",
       "      <td>anion</td>\n",
       "      <td>sq-pl</td>\n",
       "      <td>hal-org</td>\n",
       "      <td>[Pt@SP1]([NH3+])(I)(Cl)I</td>\n",
       "      <td>https://doi.org/10.1002/ejic.202000474</td>\n",
       "    </tr>\n",
       "    <tr>\n",
       "      <th>121</th>\n",
       "      <td>549</td>\n",
       "      <td>2.21</td>\n",
       "      <td>7.0</td>\n",
       "      <td>-2.1700</td>\n",
       "      <td>0.14600</td>\n",
       "      <td>-0.41300</td>\n",
       "      <td>2.56</td>\n",
       "      <td>53.0</td>\n",
       "      <td>2.5300</td>\n",
       "      <td>0.037</td>\n",
       "      <td>...</td>\n",
       "      <td>-1000</td>\n",
       "      <td>-4250</td>\n",
       "      <td>1142.398727</td>\n",
       "      <td>-39.0</td>\n",
       "      <td>[Pt(NH3)I3]-</td>\n",
       "      <td>anion</td>\n",
       "      <td>sq-pl</td>\n",
       "      <td>hal-org</td>\n",
       "      <td>[Pt@SP1]([NH3+])(I)(I)I</td>\n",
       "      <td>https://doi.org/10.1002/ejic.202000474</td>\n",
       "    </tr>\n",
       "  </tbody>\n",
       "</table>\n",
       "<p>122 rows × 200 columns</p>\n",
       "</div>"
      ],
      "text/plain": [
       "    Complex ID     1     2       3        4        5     6     7       8  \\\n",
       "0            4  2.33  17.0  0.0101  2.33000 -0.04390  2.33  17.0 -0.0106   \n",
       "1            5  2.34  17.0  2.3400  0.00314  0.00906  2.34  17.0  0.0581   \n",
       "2            6  2.36  17.0  2.2300  0.59600 -0.46300  2.36  17.0 -2.2300   \n",
       "3            7  2.35  17.0  2.3200  0.19000  0.30800  2.35  17.0  0.3060   \n",
       "4            8  2.32  17.0  2.3200 -0.01040  0.00478  2.35  17.0  0.1010   \n",
       "..         ...   ...   ...     ...      ...      ...   ...   ...     ...   \n",
       "117        545  2.07   7.0  2.0500 -0.21200 -0.17800  2.07   7.0 -2.0500   \n",
       "118        546  2.16   7.0 -2.1500 -0.22900  0.05290  2.18  17.0  2.1700   \n",
       "119        547  1.90   7.0 -1.8700  0.07830  0.28500  2.34  35.0  0.4750   \n",
       "120        548  2.19  17.0 -0.2590 -1.00000  1.93000  2.22   7.0  0.2800   \n",
       "121        549  2.21   7.0 -2.1700  0.14600 -0.41300  2.56  53.0  2.5300   \n",
       "\n",
       "         9  ...  Charge  Shift  Dipole_point_q      q                Brutto  \\\n",
       "0   -2.330  ...   -2000  -1630       16.713013   91.0             [PtCl4]2-   \n",
       "1    2.340  ...   -2000  -1842      770.758366   56.0           [PtCl3Br]2-   \n",
       "2   -0.596  ...       0  -2090        0.254180   26.0      trans-[PtCl2Br2]   \n",
       "3   -2.330  ...       0  -2103     1003.165338   18.0        cis-[PtCl2Br2]   \n",
       "4    2.350  ...   -2000  -2346     1414.192862   -6.0            [PtCl3I]2-   \n",
       "..     ...  ...     ...    ...             ...    ...                   ...   \n",
       "117  0.212  ...       0  -3372        2.934876 -191.0    trans-[Pt(NH3)2I2]   \n",
       "118  0.232  ...   -1000  -1884     1282.595422  219.0         [Pt(NH3)Cl3]-   \n",
       "119 -1.940  ...   -1000  -2534      598.143687  185.0         [Pt(NH3)Br3]-   \n",
       "120  1.010  ...   -1000  -3298     1269.126886   55.0  trans-[Pt(NH3)ClI2]-   \n",
       "121  0.037  ...   -1000  -4250     1142.398727  -39.0          [Pt(NH3)I3]-   \n",
       "\n",
       "     Charge_class  Geometry   Ligand                        Smiles  \\\n",
       "0           anion     sq-pl      hal          Cl[Pt@SP1](Cl)(Cl)Cl   \n",
       "1           anion     sq-pl      hal          Cl[Pt@SP1](Cl)(Cl)Br   \n",
       "2         neutral     sq-pl      hal          Br[Pt@SP1](Cl)(Br)Cl   \n",
       "3         neutral     sq-pl      hal        Cl[Pt@SP1](Cl)(Br)[Br]   \n",
       "4           anion     sq-pl      hal           Cl[Pt@SP1](Cl)(Cl)I   \n",
       "..            ...       ...      ...                           ...   \n",
       "117       neutral     sq-pl  hal-org  [Pt@SP1]([NH3+])(I)([NH3+])I   \n",
       "118         anion     sq-pl  hal-org    [Pt@SP1]([NH3+])(Cl)(Cl)Cl   \n",
       "119         anion     sq-pl  hal-org    [Pt@SP1]([NH3+])(Br)(Br)Br   \n",
       "120         anion     sq-pl  hal-org      [Pt@SP1]([NH3+])(I)(Cl)I   \n",
       "121         anion     sq-pl  hal-org       [Pt@SP1]([NH3+])(I)(I)I   \n",
       "\n",
       "                                 Source_doi  \n",
       "0    https://doi.org/10.1002/ejic.201600573  \n",
       "1    https://doi.org/10.1002/ejic.201600573  \n",
       "2    https://doi.org/10.1002/ejic.201600573  \n",
       "3    https://doi.org/10.1002/ejic.201600573  \n",
       "4    https://doi.org/10.1002/ejic.201600573  \n",
       "..                                      ...  \n",
       "117  https://doi.org/10.1002/ejic.202000474  \n",
       "118  https://doi.org/10.1002/ejic.202000474  \n",
       "119  https://doi.org/10.1002/ejic.202000474  \n",
       "120  https://doi.org/10.1002/ejic.202000474  \n",
       "121  https://doi.org/10.1002/ejic.202000474  \n",
       "\n",
       "[122 rows x 200 columns]"
      ]
     },
     "execution_count": 2,
     "metadata": {},
     "output_type": "execute_result"
    }
   ],
   "source": [
    "df = pd.read_csv('dataset_fchl\\no_corr_fchl_122_dataset.csv',  dtype={'Complex ID': 'str'})\n",
    "df"
   ]
  },
  {
   "cell_type": "code",
   "execution_count": 3,
   "id": "857006a8",
   "metadata": {
    "scrolled": true
   },
   "outputs": [],
   "source": [
    "y = df.Shift.to_numpy()\n",
    "X = df.drop(['Complex ID', 'Shift', 'Source_doi', 'Brutto', 'Charge_class', 'Geometry', 'Ligand', 'Smiles'], axis=1)\n",
    "columns = X.columns\n",
    "X = X.to_numpy()"
   ]
  },
  {
   "cell_type": "code",
   "execution_count": 4,
   "id": "bb39b63e",
   "metadata": {},
   "outputs": [],
   "source": [
    "X_train, X_test, y_train, y_test = train_test_split(X, y, test_size=0.2, random_state=42)"
   ]
  },
  {
   "cell_type": "code",
   "execution_count": 5,
   "id": "a5eca067",
   "metadata": {
    "scrolled": true
   },
   "outputs": [],
   "source": [
    "scaler_train = StandardScaler()\n",
    "\n",
    "scaler_train.fit(X_train)\n",
    "scaler_train.fit(X_test)\n",
    "\n",
    "X_train_norm = scaler_train.transform(X_train)\n",
    "X_test_norm = scaler_train.transform(X_test)"
   ]
  },
  {
   "cell_type": "markdown",
   "id": "037889cb",
   "metadata": {},
   "source": [
    "## Some useful functions"
   ]
  },
  {
   "cell_type": "code",
   "execution_count": 6,
   "id": "43ac5a01",
   "metadata": {},
   "outputs": [],
   "source": [
    "def metrics(y, y_pred):\n",
    "    \n",
    "    rmse = sqrt(mean_squared_error(y, y_pred))\n",
    "    mae = mean_absolute_error(y, y_pred)\n",
    "    r2 = r2_score(y, y_pred)\n",
    "    print('RMSE = {:0.2f} ppm'.format(rmse),'\\n',\n",
    "          'MAE = {:0.2f} ppm'.format(mae), '\\n',\n",
    "         '$R^2$ = {:0.2f}'.format(r2))   \n",
    "    \n",
    "    return {'RMSE': rmse, 'MAE': mae, '$R^2$': r2}"
   ]
  },
  {
   "cell_type": "code",
   "execution_count": 7,
   "id": "69cc3e0b",
   "metadata": {},
   "outputs": [],
   "source": [
    "def plot_correlation(model, X, y):\n",
    "    \n",
    "    plt.rcParams['font.size'] = 16\n",
    "    fig, ax = plt.subplots(figsize=(8,8))\n",
    "    plt.plot(y, y, color='r', linestyle='-', linewidth=2)\n",
    "    plt.plot(y, model.predict(X), linestyle='none', color='blue', marker='o')\n",
    "    \n",
    "    plt.xlabel(\"Experimental δ, ppm\")\n",
    "    plt.ylabel(\"Predicted δ, ppm\")\n",
    "    fig.tight_layout() \n",
    "    plt.show()\n",
    "    fig.savefig('fchl_{}.png'.format(str(model)[:10]), dpi=300, bbox_inches = 'tight')\n",
    "    \n",
    "    return metrics(y, model.predict(X))"
   ]
  },
  {
   "cell_type": "code",
   "execution_count": 8,
   "id": "77d1269c",
   "metadata": {},
   "outputs": [],
   "source": [
    "def tune_hyperparam(estimator, grid, X, y):\n",
    "    \n",
    "    est_random = RandomizedSearchCV(estimator=estimator, param_distributions = grid, n_iter = 100, \n",
    "                                    cv = 5, verbose=2, random_state=42, n_jobs = -1)\n",
    "    est_random.fit(X, y)\n",
    "    print(est_random.best_params_)\n",
    "    print('Mean of $R**2$', est_random.best_score_)\n",
    "    \n",
    "    return est_random.best_estimator_"
   ]
  },
  {
   "cell_type": "code",
   "execution_count": 9,
   "id": "6920dfb4",
   "metadata": {},
   "outputs": [],
   "source": [
    "def evaluate(estimator, X, y, n_splits, scoring):\n",
    "    \n",
    "    cv = ShuffleSplit(n_splits=n_splits, test_size=0.2, random_state=42)\n",
    "    scores = cross_val_score(estimator, X, y, cv=cv, scoring=scoring)\n",
    "    \n",
    "    if scoring == 'r2':\n",
    "        scores = scores\n",
    "        \n",
    "    if scoring == 'neg_mean_absolute_error':\n",
    "        scores = [-i for i in scores]\n",
    "        \n",
    "    if scoring == 'neg_mean_squared_error':\n",
    "        scores = [np.sqrt(-i) for i in scores]\n",
    "        \n",
    "    return {'Mean':np.round(np.mean(scores), 2), 'Std': np.round(np.std(scores), 2),\n",
    "            'Min': np.round(np.min(scores), 2), 'Max': np.round(np.max(scores), 2)}"
   ]
  },
  {
   "cell_type": "markdown",
   "id": "08858f5f",
   "metadata": {},
   "source": [
    "## Models: Random Forest, Ridge regressor, SVR"
   ]
  },
  {
   "cell_type": "markdown",
   "id": "fa5c2be9",
   "metadata": {},
   "source": [
    "### Hyperprameter tuning by use of grid search"
   ]
  },
  {
   "cell_type": "code",
   "execution_count": 10,
   "id": "b09fbb59",
   "metadata": {
    "scrolled": true
   },
   "outputs": [],
   "source": [
    "#Random forest grid\n",
    "n_estimators = [int(x) for x in np.linspace(start = 10, stop = 1000, num = 20)]\n",
    "max_features = ['auto', 'sqrt']\n",
    "max_depth = [int(x) for x in np.linspace(5, 205, num = 22)]\n",
    "max_depth.append(None)\n",
    "min_samples_split = [1, 2, 3, 4, 5, 6, 7, 8, 9, 10]\n",
    "min_samples_leaf = [1, 2, 3, 4]\n",
    "bootstrap = [True, False]\n",
    "warm_start = [True, False]\n",
    "grid_rf = {'n_estimators': n_estimators,\n",
    "               'max_features': max_features,\n",
    "               'max_depth': max_depth,\n",
    "               'min_samples_split': min_samples_split,\n",
    "               'min_samples_leaf': min_samples_leaf,\n",
    "               'bootstrap': bootstrap,\n",
    "              'warm_start': warm_start}"
   ]
  },
  {
   "cell_type": "code",
   "execution_count": 11,
   "id": "c1242421",
   "metadata": {
    "scrolled": true
   },
   "outputs": [],
   "source": [
    "#Ridge regression grid\n",
    "alpha = [1.e-0, 1.e-1, 1.e-2, 1.e-3, 1.e-4, 1.e-5, 1.e-6, 1.e-7, 1.e-8, 1.e-9, 1.e-10]\n",
    "coef0 = np.linspace(1.e-10, 1, 50)\n",
    "degree = [0, 1, 2, 3, 4]\n",
    "gamma = [1.e-0, 1.e-1, 1.e-2, 1.e-3, 1.e-4, 1.e-5, 1.e-6, 1.e-7, 1.e-8, 1.e-9, 1.e-10]\n",
    "kernel = ['laplacian', 'RBF', 'polynomial', 'exponential chi2', 'sigmoid']\n",
    "\n",
    "grid_ridge = {'alpha': alpha,\n",
    "         'coef0': coef0,\n",
    "         'degree': degree,\n",
    "         'gamma': gamma,\n",
    "         'kernel': kernel}"
   ]
  },
  {
   "cell_type": "code",
   "execution_count": 12,
   "id": "4d105e58",
   "metadata": {
    "scrolled": true
   },
   "outputs": [],
   "source": [
    "#SVR grid\n",
    "C = [10000, 100000, 1000000, 10000000]\n",
    "coef0 = [1.e-0, 1.e-1, 1.e-2, 1.e-3, 1.e-4, 1.e-5, 1.e-6, 1.e-7, 1.e-8, 1.e-9, 1.e-10]\n",
    "degree = [1, 2, 3, 4, 5]\n",
    "epsilon = [1.e-0, 1.e-1, 1.e-2, 1.e-3, 1.e-4, 1.e-5, 1.e-6, 1.e-7, 1.e-8, 1.e-9, 1.e-10]\n",
    "gamma = ['scale', 'auto']\n",
    "kernel = ['linear', 'poly', 'rbf', 'sigmoid']\n",
    "tol = [1.e-1, 1.e-2, 1.e-3, 1.e-4, 1.e-5, 1.e-6, 1.e-7, 1.e-8, 1.e-9, 1.e-10]\n",
    "max_iter = 1000000\n",
    "\n",
    "grid_svr = {'C' : C,\n",
    "     'coef0': coef0,\n",
    "     'degree': degree,\n",
    "     'epsilon': epsilon,\n",
    "     'gamma': gamma,\n",
    "     'kernel': kernel,\n",
    "     'tol': tol}"
   ]
  },
  {
   "cell_type": "code",
   "execution_count": 13,
   "id": "806e56fa",
   "metadata": {},
   "outputs": [],
   "source": [
    "rf = RandomForestRegressor(random_state=42)\n",
    "ridge = KernelRidge()\n",
    "svr = SVR(max_iter=max_iter)\n",
    "estimators = {rf: grid_rf, ridge: grid_ridge, svr: grid_svr}"
   ]
  },
  {
   "cell_type": "code",
   "execution_count": 14,
   "id": "14456f8d",
   "metadata": {
    "scrolled": true
   },
   "outputs": [
    {
     "name": "stdout",
     "output_type": "stream",
     "text": [
      "Fitting 5 folds for each of 100 candidates, totalling 500 fits\n"
     ]
    },
    {
     "name": "stderr",
     "output_type": "stream",
     "text": [
      "\n",
      "40 fits failed out of a total of 500.\n",
      "The score on these train-test partitions for these parameters will be set to nan.\n",
      "If these failures are not expected, you can try to debug them by setting error_score='raise'.\n",
      "\n",
      "Below are more details about the failures:\n",
      "--------------------------------------------------------------------------------\n",
      "35 fits failed with the following error:\n",
      "Traceback (most recent call last):\n",
      "  File \"C:\\Users\\evg_ondar\\Miniconda3\\lib\\site-packages\\sklearn\\model_selection\\_validation.py\", line 686, in _fit_and_score\n",
      "    estimator.fit(X_train, y_train, **fit_params)\n",
      "  File \"C:\\Users\\evg_ondar\\Miniconda3\\lib\\site-packages\\sklearn\\ensemble\\_forest.py\", line 476, in fit\n",
      "    trees = Parallel(\n",
      "  File \"C:\\Users\\evg_ondar\\Miniconda3\\lib\\site-packages\\joblib\\parallel.py\", line 1043, in __call__\n",
      "    if self.dispatch_one_batch(iterator):\n",
      "  File \"C:\\Users\\evg_ondar\\Miniconda3\\lib\\site-packages\\joblib\\parallel.py\", line 861, in dispatch_one_batch\n",
      "    self._dispatch(tasks)\n",
      "  File \"C:\\Users\\evg_ondar\\Miniconda3\\lib\\site-packages\\joblib\\parallel.py\", line 779, in _dispatch\n",
      "    job = self._backend.apply_async(batch, callback=cb)\n",
      "  File \"C:\\Users\\evg_ondar\\Miniconda3\\lib\\site-packages\\joblib\\_parallel_backends.py\", line 208, in apply_async\n",
      "    result = ImmediateResult(func)\n",
      "  File \"C:\\Users\\evg_ondar\\Miniconda3\\lib\\site-packages\\joblib\\_parallel_backends.py\", line 572, in __init__\n",
      "    self.results = batch()\n",
      "  File \"C:\\Users\\evg_ondar\\Miniconda3\\lib\\site-packages\\joblib\\parallel.py\", line 262, in __call__\n",
      "    return [func(*args, **kwargs)\n",
      "  File \"C:\\Users\\evg_ondar\\Miniconda3\\lib\\site-packages\\joblib\\parallel.py\", line 262, in <listcomp>\n",
      "    return [func(*args, **kwargs)\n",
      "  File \"C:\\Users\\evg_ondar\\Miniconda3\\lib\\site-packages\\sklearn\\utils\\fixes.py\", line 117, in __call__\n",
      "    return self.function(*args, **kwargs)\n",
      "  File \"C:\\Users\\evg_ondar\\Miniconda3\\lib\\site-packages\\sklearn\\ensemble\\_forest.py\", line 189, in _parallel_build_trees\n",
      "    tree.fit(X, y, sample_weight=curr_sample_weight, check_input=False)\n",
      "  File \"C:\\Users\\evg_ondar\\Miniconda3\\lib\\site-packages\\sklearn\\tree\\_classes.py\", line 1342, in fit\n",
      "    super().fit(\n",
      "  File \"C:\\Users\\evg_ondar\\Miniconda3\\lib\\site-packages\\sklearn\\tree\\_classes.py\", line 265, in fit\n",
      "    check_scalar(\n",
      "  File \"C:\\Users\\evg_ondar\\Miniconda3\\lib\\site-packages\\sklearn\\utils\\validation.py\", line 1476, in check_scalar\n",
      "    raise ValueError(\n",
      "ValueError: min_samples_split == 1, must be >= 2.\n",
      "\n",
      "--------------------------------------------------------------------------------\n",
      "5 fits failed with the following error:\n",
      "Traceback (most recent call last):\n",
      "  File \"C:\\Users\\evg_ondar\\Miniconda3\\lib\\site-packages\\sklearn\\model_selection\\_validation.py\", line 686, in _fit_and_score\n",
      "    estimator.fit(X_train, y_train, **fit_params)\n",
      "  File \"C:\\Users\\evg_ondar\\Miniconda3\\lib\\site-packages\\sklearn\\ensemble\\_forest.py\", line 476, in fit\n",
      "    trees = Parallel(\n",
      "  File \"C:\\Users\\evg_ondar\\Miniconda3\\lib\\site-packages\\joblib\\parallel.py\", line 1043, in __call__\n",
      "    if self.dispatch_one_batch(iterator):\n",
      "  File \"C:\\Users\\evg_ondar\\Miniconda3\\lib\\site-packages\\joblib\\parallel.py\", line 861, in dispatch_one_batch\n",
      "    self._dispatch(tasks)\n",
      "  File \"C:\\Users\\evg_ondar\\Miniconda3\\lib\\site-packages\\joblib\\parallel.py\", line 779, in _dispatch\n",
      "    job = self._backend.apply_async(batch, callback=cb)\n",
      "  File \"C:\\Users\\evg_ondar\\Miniconda3\\lib\\site-packages\\joblib\\_parallel_backends.py\", line 208, in apply_async\n",
      "    result = ImmediateResult(func)\n",
      "  File \"C:\\Users\\evg_ondar\\Miniconda3\\lib\\site-packages\\joblib\\_parallel_backends.py\", line 572, in __init__\n",
      "    self.results = batch()\n",
      "  File \"C:\\Users\\evg_ondar\\Miniconda3\\lib\\site-packages\\joblib\\parallel.py\", line 262, in __call__\n",
      "    return [func(*args, **kwargs)\n",
      "  File \"C:\\Users\\evg_ondar\\Miniconda3\\lib\\site-packages\\joblib\\parallel.py\", line 262, in <listcomp>\n",
      "    return [func(*args, **kwargs)\n",
      "  File \"C:\\Users\\evg_ondar\\Miniconda3\\lib\\site-packages\\sklearn\\utils\\fixes.py\", line 117, in __call__\n",
      "    return self.function(*args, **kwargs)\n",
      "  File \"C:\\Users\\evg_ondar\\Miniconda3\\lib\\site-packages\\sklearn\\ensemble\\_forest.py\", line 191, in _parallel_build_trees\n",
      "    tree.fit(X, y, sample_weight=sample_weight, check_input=False)\n",
      "  File \"C:\\Users\\evg_ondar\\Miniconda3\\lib\\site-packages\\sklearn\\tree\\_classes.py\", line 1342, in fit\n",
      "    super().fit(\n",
      "  File \"C:\\Users\\evg_ondar\\Miniconda3\\lib\\site-packages\\sklearn\\tree\\_classes.py\", line 265, in fit\n",
      "    check_scalar(\n",
      "  File \"C:\\Users\\evg_ondar\\Miniconda3\\lib\\site-packages\\sklearn\\utils\\validation.py\", line 1476, in check_scalar\n",
      "    raise ValueError(\n",
      "ValueError: min_samples_split == 1, must be >= 2.\n",
      "\n",
      "One or more of the test scores are non-finite: [0.84502623 0.75152015 0.8688176  0.86564988 0.86564643 0.86564528\n",
      " 0.86681219 0.75324402 0.87466938 0.86880121 0.85521571        nan\n",
      " 0.6750261         nan        nan 0.79972206 0.73137453 0.85508655\n",
      " 0.72701676 0.86432513 0.83124381 0.80875245 0.86564643 0.86450421\n",
      " 0.82878652 0.63155902 0.82347953 0.78787702 0.7950631  0.86564988\n",
      " 0.86433796 0.85986764 0.70139944        nan 0.63545548 0.86450421\n",
      " 0.7500169  0.71631434 0.83116904        nan 0.86434946 0.86445603\n",
      " 0.65336863 0.85585285 0.81393966 0.85114801 0.77268146 0.86988937\n",
      " 0.81482041 0.8680593  0.86468806 0.87184225 0.77391794 0.84157361\n",
      " 0.82952771 0.7500169  0.87446223 0.72048366 0.87335771 0.70032504\n",
      " 0.66996245 0.84709316 0.84892272 0.805549   0.85190487 0.70623421\n",
      " 0.76587197 0.61455035        nan 0.67360868 0.84845304 0.65191418\n",
      "        nan 0.77046107 0.85216923 0.66894974 0.68047333 0.85884006\n",
      " 0.82096115 0.7682339  0.80826762 0.82606654 0.80481058 0.84206143\n",
      " 0.86564406 0.61461935 0.84335794 0.85795446 0.81623839 0.86778505\n",
      " 0.83333488 0.84354091 0.67037856 0.77544926 0.85084514 0.84073129\n",
      " 0.77758492 0.79041148        nan 0.88346846]\n",
      "`max_features='auto'` has been deprecated in 1.1 and will be removed in 1.3. To keep the past behaviour, explicitly set `max_features=1.0` or remove this parameter as it is also the default value for RandomForestRegressors and ExtraTreesRegressors.\n"
     ]
    },
    {
     "name": "stdout",
     "output_type": "stream",
     "text": [
      "{'warm_start': False, 'n_estimators': 322, 'min_samples_split': 5, 'min_samples_leaf': 2, 'max_features': 'auto', 'max_depth': 14, 'bootstrap': False}\n",
      "Mean of $R**2$ 0.8834684591672881\n",
      "Fitting 5 folds for each of 100 candidates, totalling 500 fits\n"
     ]
    },
    {
     "name": "stderr",
     "output_type": "stream",
     "text": [
      "\n",
      "185 fits failed out of a total of 500.\n",
      "The score on these train-test partitions for these parameters will be set to nan.\n",
      "If these failures are not expected, you can try to debug them by setting error_score='raise'.\n",
      "\n",
      "Below are more details about the failures:\n",
      "--------------------------------------------------------------------------------\n",
      "110 fits failed with the following error:\n",
      "Traceback (most recent call last):\n",
      "  File \"C:\\Users\\evg_ondar\\Miniconda3\\lib\\site-packages\\sklearn\\model_selection\\_validation.py\", line 686, in _fit_and_score\n",
      "    estimator.fit(X_train, y_train, **fit_params)\n",
      "  File \"C:\\Users\\evg_ondar\\Miniconda3\\lib\\site-packages\\sklearn\\kernel_ridge.py\", line 186, in fit\n",
      "    K = self._get_kernel(X)\n",
      "  File \"C:\\Users\\evg_ondar\\Miniconda3\\lib\\site-packages\\sklearn\\kernel_ridge.py\", line 154, in _get_kernel\n",
      "    return pairwise_kernels(X, Y, metric=self.kernel, filter_params=True, **params)\n",
      "  File \"C:\\Users\\evg_ondar\\Miniconda3\\lib\\site-packages\\sklearn\\metrics\\pairwise.py\", line 2151, in pairwise_kernels\n",
      "    raise ValueError(\"Unknown kernel %r\" % metric)\n",
      "ValueError: Unknown kernel 'exponential chi2'\n",
      "\n",
      "--------------------------------------------------------------------------------\n",
      "75 fits failed with the following error:\n",
      "Traceback (most recent call last):\n",
      "  File \"C:\\Users\\evg_ondar\\Miniconda3\\lib\\site-packages\\sklearn\\model_selection\\_validation.py\", line 686, in _fit_and_score\n",
      "    estimator.fit(X_train, y_train, **fit_params)\n",
      "  File \"C:\\Users\\evg_ondar\\Miniconda3\\lib\\site-packages\\sklearn\\kernel_ridge.py\", line 186, in fit\n",
      "    K = self._get_kernel(X)\n",
      "  File \"C:\\Users\\evg_ondar\\Miniconda3\\lib\\site-packages\\sklearn\\kernel_ridge.py\", line 154, in _get_kernel\n",
      "    return pairwise_kernels(X, Y, metric=self.kernel, filter_params=True, **params)\n",
      "  File \"C:\\Users\\evg_ondar\\Miniconda3\\lib\\site-packages\\sklearn\\metrics\\pairwise.py\", line 2151, in pairwise_kernels\n",
      "    raise ValueError(\"Unknown kernel %r\" % metric)\n",
      "ValueError: Unknown kernel 'RBF'\n",
      "\n",
      "One or more of the test scores are non-finite: [            nan -2.63938279e-01  4.26005195e-01 -5.91717084e+04\n",
      " -5.14942361e-01             nan             nan -8.56915188e+00\n",
      "             nan  6.79969428e-01  4.43800701e-01             nan\n",
      " -3.57680174e-01             nan  7.12848415e-01 -4.02595550e-01\n",
      " -3.53007391e-01  8.81340578e-01             nan  6.51378133e-01\n",
      " -1.39100650e+00             nan             nan  7.13881798e-01\n",
      "             nan             nan -1.24562372e+00  8.81279814e-01\n",
      " -1.39100650e+00             nan -1.26890117e+02             nan\n",
      " -3.53007391e-01             nan             nan             nan\n",
      "             nan -3.37043241e+02 -1.17190734e+01 -2.69182208e-01\n",
      "             nan             nan -1.01832557e+03 -2.98021220e-01\n",
      "             nan             nan  6.44590107e-01             nan\n",
      " -2.63625112e-01 -2.66103778e-01  9.08324434e-01  6.31060131e-02\n",
      " -2.63926029e-01 -3.57680174e-01 -2.71680799e-01             nan\n",
      "  6.30851432e-02  6.89861703e-01 -2.63975007e-01 -5.92075694e+02\n",
      " -2.71633028e-01  5.17652525e-01  7.26104460e-01             nan\n",
      "             nan -2.64681994e-01 -2.64444299e-01             nan\n",
      "             nan  7.58095976e-01 -2.68921277e-01             nan\n",
      " -2.62628019e-01 -4.28524845e+02 -3.82196978e+01  5.72604137e-02\n",
      " -2.23761749e+01             nan             nan -1.61161530e+00\n",
      "  9.06253375e-01  9.05344312e-01 -1.25644798e+03             nan\n",
      "             nan -6.83180551e+02             nan -2.63975007e-01\n",
      "             nan -1.54147407e+02 -2.60863528e-01             nan\n",
      " -9.34323290e+00 -2.77865279e-01  6.46721435e-01  6.69572551e-01\n",
      "             nan  8.81280447e-01             nan -2.63978064e-01]\n"
     ]
    },
    {
     "name": "stdout",
     "output_type": "stream",
     "text": [
      "{'kernel': 'laplacian', 'gamma': 0.001, 'degree': 4, 'coef0': 0.020408163363265307, 'alpha': 1e-08}\n",
      "Mean of $R**2$ 0.9083244338575319\n",
      "Fitting 5 folds for each of 100 candidates, totalling 500 fits\n",
      "{'tol': 1e-07, 'kernel': 'rbf', 'gamma': 'scale', 'epsilon': 0.01, 'degree': 2, 'coef0': 1e-05, 'C': 10000000}\n",
      "Mean of $R**2$ 0.8520337326635439\n"
     ]
    }
   ],
   "source": [
    "best_estim = []\n",
    "for i, j in estimators.items():\n",
    "    best_estim.append(tune_hyperparam(i, j, X_train_norm, y_train))"
   ]
  },
  {
   "cell_type": "code",
   "execution_count": 15,
   "id": "40a5d6e9",
   "metadata": {},
   "outputs": [
    {
     "data": {
      "text/plain": [
       "[RandomForestRegressor(bootstrap=False, max_depth=14, max_features='auto',\n",
       "                       min_samples_leaf=2, min_samples_split=5, n_estimators=322,\n",
       "                       random_state=42),\n",
       " KernelRidge(alpha=1e-08, coef0=0.020408163363265307, degree=4, gamma=0.001,\n",
       "             kernel='laplacian'),\n",
       " SVR(C=10000000, coef0=1e-05, degree=2, epsilon=0.01, max_iter=1000000,\n",
       "     tol=1e-07)]"
      ]
     },
     "execution_count": 15,
     "metadata": {},
     "output_type": "execute_result"
    }
   ],
   "source": [
    "best_estim"
   ]
  },
  {
   "cell_type": "markdown",
   "id": "50793e9f",
   "metadata": {},
   "source": [
    "### Training and evaluation of models by use of cross-validation"
   ]
  },
  {
   "cell_type": "code",
   "execution_count": 16,
   "id": "b7cc138d",
   "metadata": {},
   "outputs": [
    {
     "name": "stdout",
     "output_type": "stream",
     "text": [
      "Range of chem shifts -6293 : 7090\n"
     ]
    }
   ],
   "source": [
    "print('Range of chem shifts', np.min(y_train), ':', np.max(y_train))"
   ]
  },
  {
   "cell_type": "code",
   "execution_count": 17,
   "id": "815a8be2",
   "metadata": {
    "scrolled": true
   },
   "outputs": [
    {
     "name": "stderr",
     "output_type": "stream",
     "text": [
      "`max_features='auto'` has been deprecated in 1.1 and will be removed in 1.3. To keep the past behaviour, explicitly set `max_features=1.0` or remove this parameter as it is also the default value for RandomForestRegressors and ExtraTreesRegressors.\n",
      "`max_features='auto'` has been deprecated in 1.1 and will be removed in 1.3. To keep the past behaviour, explicitly set `max_features=1.0` or remove this parameter as it is also the default value for RandomForestRegressors and ExtraTreesRegressors.\n",
      "`max_features='auto'` has been deprecated in 1.1 and will be removed in 1.3. To keep the past behaviour, explicitly set `max_features=1.0` or remove this parameter as it is also the default value for RandomForestRegressors and ExtraTreesRegressors.\n",
      "`max_features='auto'` has been deprecated in 1.1 and will be removed in 1.3. To keep the past behaviour, explicitly set `max_features=1.0` or remove this parameter as it is also the default value for RandomForestRegressors and ExtraTreesRegressors.\n"
     ]
    },
    {
     "data": {
      "text/html": [
       "<div>\n",
       "<style scoped>\n",
       "    .dataframe tbody tr th:only-of-type {\n",
       "        vertical-align: middle;\n",
       "    }\n",
       "\n",
       "    .dataframe tbody tr th {\n",
       "        vertical-align: top;\n",
       "    }\n",
       "\n",
       "    .dataframe thead th {\n",
       "        text-align: right;\n",
       "    }\n",
       "</style>\n",
       "<table border=\"1\" class=\"dataframe\">\n",
       "  <thead>\n",
       "    <tr style=\"text-align: right;\">\n",
       "      <th></th>\n",
       "      <th>Mean</th>\n",
       "      <th>Std</th>\n",
       "      <th>Min</th>\n",
       "      <th>Max</th>\n",
       "    </tr>\n",
       "  </thead>\n",
       "  <tbody>\n",
       "    <tr>\n",
       "      <th>RF</th>\n",
       "      <td>0.89</td>\n",
       "      <td>0.06</td>\n",
       "      <td>0.79</td>\n",
       "      <td>0.97</td>\n",
       "    </tr>\n",
       "    <tr>\n",
       "      <th>Ridge regr</th>\n",
       "      <td>0.92</td>\n",
       "      <td>0.04</td>\n",
       "      <td>0.86</td>\n",
       "      <td>0.97</td>\n",
       "    </tr>\n",
       "    <tr>\n",
       "      <th>SVR</th>\n",
       "      <td>0.93</td>\n",
       "      <td>0.03</td>\n",
       "      <td>0.87</td>\n",
       "      <td>0.96</td>\n",
       "    </tr>\n",
       "  </tbody>\n",
       "</table>\n",
       "</div>"
      ],
      "text/plain": [
       "            Mean   Std   Min   Max\n",
       "RF          0.89  0.06  0.79  0.97\n",
       "Ridge regr  0.92  0.04  0.86  0.97\n",
       "SVR         0.93  0.03  0.87  0.96"
      ]
     },
     "execution_count": 17,
     "metadata": {},
     "output_type": "execute_result"
    }
   ],
   "source": [
    "#Determination coefficient\n",
    "res_r2 = []\n",
    "for i in best_estim:\n",
    "    res_r2.append(evaluate(i, X_train_norm, y_train, n_splits=4, scoring='r2'))\n",
    "res_df_r2 = pd.DataFrame(res_r2, index=['RF', 'Ridge regr', 'SVR'])\n",
    "res_df_r2"
   ]
  },
  {
   "cell_type": "code",
   "execution_count": 18,
   "id": "c5dcbd20",
   "metadata": {
    "scrolled": false
   },
   "outputs": [
    {
     "name": "stderr",
     "output_type": "stream",
     "text": [
      "`max_features='auto'` has been deprecated in 1.1 and will be removed in 1.3. To keep the past behaviour, explicitly set `max_features=1.0` or remove this parameter as it is also the default value for RandomForestRegressors and ExtraTreesRegressors.\n",
      "`max_features='auto'` has been deprecated in 1.1 and will be removed in 1.3. To keep the past behaviour, explicitly set `max_features=1.0` or remove this parameter as it is also the default value for RandomForestRegressors and ExtraTreesRegressors.\n",
      "`max_features='auto'` has been deprecated in 1.1 and will be removed in 1.3. To keep the past behaviour, explicitly set `max_features=1.0` or remove this parameter as it is also the default value for RandomForestRegressors and ExtraTreesRegressors.\n",
      "`max_features='auto'` has been deprecated in 1.1 and will be removed in 1.3. To keep the past behaviour, explicitly set `max_features=1.0` or remove this parameter as it is also the default value for RandomForestRegressors and ExtraTreesRegressors.\n"
     ]
    },
    {
     "data": {
      "text/html": [
       "<div>\n",
       "<style scoped>\n",
       "    .dataframe tbody tr th:only-of-type {\n",
       "        vertical-align: middle;\n",
       "    }\n",
       "\n",
       "    .dataframe tbody tr th {\n",
       "        vertical-align: top;\n",
       "    }\n",
       "\n",
       "    .dataframe thead th {\n",
       "        text-align: right;\n",
       "    }\n",
       "</style>\n",
       "<table border=\"1\" class=\"dataframe\">\n",
       "  <thead>\n",
       "    <tr style=\"text-align: right;\">\n",
       "      <th></th>\n",
       "      <th>Mean</th>\n",
       "      <th>Std</th>\n",
       "      <th>Min</th>\n",
       "      <th>Max</th>\n",
       "    </tr>\n",
       "  </thead>\n",
       "  <tbody>\n",
       "    <tr>\n",
       "      <th>RF</th>\n",
       "      <td>501.11</td>\n",
       "      <td>70.20</td>\n",
       "      <td>402.69</td>\n",
       "      <td>600.79</td>\n",
       "    </tr>\n",
       "    <tr>\n",
       "      <th>Ridge regr</th>\n",
       "      <td>434.34</td>\n",
       "      <td>40.21</td>\n",
       "      <td>383.43</td>\n",
       "      <td>483.87</td>\n",
       "    </tr>\n",
       "    <tr>\n",
       "      <th>SVR</th>\n",
       "      <td>456.35</td>\n",
       "      <td>38.22</td>\n",
       "      <td>411.20</td>\n",
       "      <td>506.81</td>\n",
       "    </tr>\n",
       "  </tbody>\n",
       "</table>\n",
       "</div>"
      ],
      "text/plain": [
       "              Mean    Std     Min     Max\n",
       "RF          501.11  70.20  402.69  600.79\n",
       "Ridge regr  434.34  40.21  383.43  483.87\n",
       "SVR         456.35  38.22  411.20  506.81"
      ]
     },
     "execution_count": 18,
     "metadata": {},
     "output_type": "execute_result"
    }
   ],
   "source": [
    "#MAE\n",
    "res_mae = []\n",
    "for i in best_estim:\n",
    "    res_mae.append(evaluate(i, X_train_norm, y_train, n_splits=4, scoring='neg_mean_absolute_error'))\n",
    "res_df_mae = pd.DataFrame(res_mae, index=['RF', 'Ridge regr', 'SVR'])\n",
    "res_df_mae"
   ]
  },
  {
   "cell_type": "code",
   "execution_count": 19,
   "id": "333b138c",
   "metadata": {},
   "outputs": [
    {
     "name": "stderr",
     "output_type": "stream",
     "text": [
      "`max_features='auto'` has been deprecated in 1.1 and will be removed in 1.3. To keep the past behaviour, explicitly set `max_features=1.0` or remove this parameter as it is also the default value for RandomForestRegressors and ExtraTreesRegressors.\n",
      "`max_features='auto'` has been deprecated in 1.1 and will be removed in 1.3. To keep the past behaviour, explicitly set `max_features=1.0` or remove this parameter as it is also the default value for RandomForestRegressors and ExtraTreesRegressors.\n",
      "`max_features='auto'` has been deprecated in 1.1 and will be removed in 1.3. To keep the past behaviour, explicitly set `max_features=1.0` or remove this parameter as it is also the default value for RandomForestRegressors and ExtraTreesRegressors.\n",
      "`max_features='auto'` has been deprecated in 1.1 and will be removed in 1.3. To keep the past behaviour, explicitly set `max_features=1.0` or remove this parameter as it is also the default value for RandomForestRegressors and ExtraTreesRegressors.\n"
     ]
    },
    {
     "data": {
      "text/html": [
       "<div>\n",
       "<style scoped>\n",
       "    .dataframe tbody tr th:only-of-type {\n",
       "        vertical-align: middle;\n",
       "    }\n",
       "\n",
       "    .dataframe tbody tr th {\n",
       "        vertical-align: top;\n",
       "    }\n",
       "\n",
       "    .dataframe thead th {\n",
       "        text-align: right;\n",
       "    }\n",
       "</style>\n",
       "<table border=\"1\" class=\"dataframe\">\n",
       "  <thead>\n",
       "    <tr style=\"text-align: right;\">\n",
       "      <th></th>\n",
       "      <th>Mean</th>\n",
       "      <th>Std</th>\n",
       "      <th>Min</th>\n",
       "      <th>Max</th>\n",
       "    </tr>\n",
       "  </thead>\n",
       "  <tbody>\n",
       "    <tr>\n",
       "      <th>RF</th>\n",
       "      <td>692.53</td>\n",
       "      <td>124.94</td>\n",
       "      <td>515.50</td>\n",
       "      <td>867.38</td>\n",
       "    </tr>\n",
       "    <tr>\n",
       "      <th>Ridge regr</th>\n",
       "      <td>583.65</td>\n",
       "      <td>117.41</td>\n",
       "      <td>479.63</td>\n",
       "      <td>782.24</td>\n",
       "    </tr>\n",
       "    <tr>\n",
       "      <th>SVR</th>\n",
       "      <td>582.11</td>\n",
       "      <td>55.23</td>\n",
       "      <td>527.90</td>\n",
       "      <td>663.97</td>\n",
       "    </tr>\n",
       "  </tbody>\n",
       "</table>\n",
       "</div>"
      ],
      "text/plain": [
       "              Mean     Std     Min     Max\n",
       "RF          692.53  124.94  515.50  867.38\n",
       "Ridge regr  583.65  117.41  479.63  782.24\n",
       "SVR         582.11   55.23  527.90  663.97"
      ]
     },
     "execution_count": 19,
     "metadata": {},
     "output_type": "execute_result"
    }
   ],
   "source": [
    "#RMSE\n",
    "res_rmse = []\n",
    "for i in best_estim:\n",
    "    res_rmse.append(evaluate(i, X_train_norm, y_train, n_splits=4, scoring='neg_mean_squared_error'))\n",
    "res_df_rmse = pd.DataFrame(res_rmse, index=['RF', 'Ridge regr', 'SVR'])\n",
    "res_df_rmse"
   ]
  },
  {
   "cell_type": "code",
   "execution_count": 20,
   "id": "0cc5c648",
   "metadata": {
    "scrolled": true
   },
   "outputs": [
    {
     "name": "stdout",
     "output_type": "stream",
     "text": [
      "RandomForestRegressor(bootstrap=False, max_depth=14, max_features='auto',\n",
      "                      min_samples_leaf=2, min_samples_split=5, n_estimators=322,\n",
      "                      random_state=42)\n"
     ]
    },
    {
     "data": {
      "image/png": "[encoded data removed]",
      "text/plain": [
       "<Figure size 576x576 with 1 Axes>"
      ]
     },
     "metadata": {
      "needs_background": "light"
     },
     "output_type": "display_data"
    },
    {
     "name": "stdout",
     "output_type": "stream",
     "text": [
      "RMSE = 175.24 ppm \n",
      " MAE = 103.80 ppm \n",
      " $R^2$ = 0.99\n",
      "\n",
      "\n",
      "KernelRidge(alpha=1e-08, coef0=0.020408163363265307, degree=4, gamma=0.001,\n",
      "            kernel='laplacian')\n"
     ]
    },
    {
     "data": {
      "image/png": "[encoded data removed]",
      "text/plain": [
       "<Figure size 576x576 with 1 Axes>"
      ]
     },
     "metadata": {
      "needs_background": "light"
     },
     "output_type": "display_data"
    },
    {
     "name": "stdout",
     "output_type": "stream",
     "text": [
      "RMSE = 0.00 ppm \n",
      " MAE = 0.00 ppm \n",
      " $R^2$ = 1.00\n",
      "\n",
      "\n",
      "SVR(C=10000000, coef0=1e-05, degree=2, epsilon=0.01, max_iter=1000000,\n",
      "    tol=1e-07)\n"
     ]
    },
    {
     "data": {
      "image/png": "[encoded data removed]",
      "text/plain": [
       "<Figure size 576x576 with 1 Axes>"
      ]
     },
     "metadata": {
      "needs_background": "light"
     },
     "output_type": "display_data"
    },
    {
     "name": "stdout",
     "output_type": "stream",
     "text": [
      "RMSE = 0.03 ppm \n",
      " MAE = 0.02 ppm \n",
      " $R^2$ = 1.00\n",
      "\n",
      "\n"
     ]
    }
   ],
   "source": [
    "for i in best_estim:\n",
    "    print(i)\n",
    "    plot_correlation(i, X_train_norm, y_train,)\n",
    "    print('\\n')"
   ]
  },
  {
   "cell_type": "code",
   "execution_count": 21,
   "id": "52fa4b8d",
   "metadata": {
    "scrolled": true
   },
   "outputs": [
    {
     "name": "stdout",
     "output_type": "stream",
     "text": [
      "RandomForestRegressor(bootstrap=False, max_depth=14, max_features='auto',\n",
      "                      min_samples_leaf=2, min_samples_split=5, n_estimators=322,\n",
      "                      random_state=42)\n"
     ]
    },
    {
     "name": "stderr",
     "output_type": "stream",
     "text": [
      "`max_features='auto'` has been deprecated in 1.1 and will be removed in 1.3. To keep the past behaviour, explicitly set `max_features=1.0` or remove this parameter as it is also the default value for RandomForestRegressors and ExtraTreesRegressors.\n",
      "`max_features='auto'` has been deprecated in 1.1 and will be removed in 1.3. To keep the past behaviour, explicitly set `max_features=1.0` or remove this parameter as it is also the default value for RandomForestRegressors and ExtraTreesRegressors.\n",
      "`max_features='auto'` has been deprecated in 1.1 and will be removed in 1.3. To keep the past behaviour, explicitly set `max_features=1.0` or remove this parameter as it is also the default value for RandomForestRegressors and ExtraTreesRegressors.\n",
      "`max_features='auto'` has been deprecated in 1.1 and will be removed in 1.3. To keep the past behaviour, explicitly set `max_features=1.0` or remove this parameter as it is also the default value for RandomForestRegressors and ExtraTreesRegressors.\n",
      "`max_features='auto'` has been deprecated in 1.1 and will be removed in 1.3. To keep the past behaviour, explicitly set `max_features=1.0` or remove this parameter as it is also the default value for RandomForestRegressors and ExtraTreesRegressors.\n",
      "`max_features='auto'` has been deprecated in 1.1 and will be removed in 1.3. To keep the past behaviour, explicitly set `max_features=1.0` or remove this parameter as it is also the default value for RandomForestRegressors and ExtraTreesRegressors.\n",
      "`max_features='auto'` has been deprecated in 1.1 and will be removed in 1.3. To keep the past behaviour, explicitly set `max_features=1.0` or remove this parameter as it is also the default value for RandomForestRegressors and ExtraTreesRegressors.\n",
      "`max_features='auto'` has been deprecated in 1.1 and will be removed in 1.3. To keep the past behaviour, explicitly set `max_features=1.0` or remove this parameter as it is also the default value for RandomForestRegressors and ExtraTreesRegressors.\n",
      "`max_features='auto'` has been deprecated in 1.1 and will be removed in 1.3. To keep the past behaviour, explicitly set `max_features=1.0` or remove this parameter as it is also the default value for RandomForestRegressors and ExtraTreesRegressors.\n",
      "`max_features='auto'` has been deprecated in 1.1 and will be removed in 1.3. To keep the past behaviour, explicitly set `max_features=1.0` or remove this parameter as it is also the default value for RandomForestRegressors and ExtraTreesRegressors.\n",
      "`max_features='auto'` has been deprecated in 1.1 and will be removed in 1.3. To keep the past behaviour, explicitly set `max_features=1.0` or remove this parameter as it is also the default value for RandomForestRegressors and ExtraTreesRegressors.\n",
      "`max_features='auto'` has been deprecated in 1.1 and will be removed in 1.3. To keep the past behaviour, explicitly set `max_features=1.0` or remove this parameter as it is also the default value for RandomForestRegressors and ExtraTreesRegressors.\n",
      "`max_features='auto'` has been deprecated in 1.1 and will be removed in 1.3. To keep the past behaviour, explicitly set `max_features=1.0` or remove this parameter as it is also the default value for RandomForestRegressors and ExtraTreesRegressors.\n",
      "`max_features='auto'` has been deprecated in 1.1 and will be removed in 1.3. To keep the past behaviour, explicitly set `max_features=1.0` or remove this parameter as it is also the default value for RandomForestRegressors and ExtraTreesRegressors.\n",
      "`max_features='auto'` has been deprecated in 1.1 and will be removed in 1.3. To keep the past behaviour, explicitly set `max_features=1.0` or remove this parameter as it is also the default value for RandomForestRegressors and ExtraTreesRegressors.\n",
      "`max_features='auto'` has been deprecated in 1.1 and will be removed in 1.3. To keep the past behaviour, explicitly set `max_features=1.0` or remove this parameter as it is also the default value for RandomForestRegressors and ExtraTreesRegressors.\n",
      "`max_features='auto'` has been deprecated in 1.1 and will be removed in 1.3. To keep the past behaviour, explicitly set `max_features=1.0` or remove this parameter as it is also the default value for RandomForestRegressors and ExtraTreesRegressors.\n",
      "`max_features='auto'` has been deprecated in 1.1 and will be removed in 1.3. To keep the past behaviour, explicitly set `max_features=1.0` or remove this parameter as it is also the default value for RandomForestRegressors and ExtraTreesRegressors.\n",
      "`max_features='auto'` has been deprecated in 1.1 and will be removed in 1.3. To keep the past behaviour, explicitly set `max_features=1.0` or remove this parameter as it is also the default value for RandomForestRegressors and ExtraTreesRegressors.\n",
      "`max_features='auto'` has been deprecated in 1.1 and will be removed in 1.3. To keep the past behaviour, explicitly set `max_features=1.0` or remove this parameter as it is also the default value for RandomForestRegressors and ExtraTreesRegressors.\n"
     ]
    },
    {
     "data": {
      "image/png": "[encoded data removed]",
      "text/plain": [
       "<Figure size 432x432 with 1 Axes>"
      ]
     },
     "metadata": {
      "needs_background": "light"
     },
     "output_type": "display_data"
    },
    {
     "name": "stdout",
     "output_type": "stream",
     "text": [
      "KernelRidge(alpha=1e-08, coef0=0.020408163363265307, degree=4, gamma=0.001,\n",
      "            kernel='laplacian')\n"
     ]
    },
    {
     "data": {
      "image/png": "[encoded data removed]",
      "text/plain": [
       "<Figure size 432x432 with 1 Axes>"
      ]
     },
     "metadata": {
      "needs_background": "light"
     },
     "output_type": "display_data"
    },
    {
     "name": "stdout",
     "output_type": "stream",
     "text": [
      "SVR(C=10000000, coef0=1e-05, degree=2, epsilon=0.01, max_iter=1000000,\n",
      "    tol=1e-07)\n"
     ]
    },
    {
     "data": {
      "image/png": "[encoded data removed]",
      "text/plain": [
       "<Figure size 432x432 with 1 Axes>"
      ]
     },
     "metadata": {
      "needs_background": "light"
     },
     "output_type": "display_data"
    }
   ],
   "source": [
    "#Learning curves train vs. validation\n",
    "for i in best_estim:\n",
    "    print(i)\n",
    "    train_sizes, train_scores, test_scores, fit_times, _ = learning_curve(i, X_train_norm, y_train, cv=4,return_times=True, scoring='r2')\n",
    "    fig, ax = plt.subplots(figsize=(6,6))\n",
    "    plt.plot(train_sizes,np.mean(train_scores,axis=1), color='r', label='Train')\n",
    "    plt.plot(train_sizes,np.mean(test_scores,axis=1), color='blue', label='Validation')\n",
    "    plt.ylabel('$R^2$')\n",
    "    plt.xlabel('Training set size')\n",
    "    plt.ylim(-0.05,1.05)\n",
    "    plt.legend()\n",
    "    plt.show()\n",
    "    fig.savefig('fchl_learning curve {}.png'.format(str(i)[:10]), dpi=300, bbox_inches = 'tight')\n",
    "\n"
   ]
  },
  {
   "cell_type": "markdown",
   "id": "44ae17f1",
   "metadata": {},
   "source": [
    "## Test the model on held-out data"
   ]
  },
  {
   "cell_type": "code",
   "execution_count": 22,
   "id": "b0eb8a53",
   "metadata": {
    "scrolled": true
   },
   "outputs": [
    {
     "name": "stdout",
     "output_type": "stream",
     "text": [
      "RandomForestRegressor(bootstrap=False, max_depth=14, max_features='auto',\n",
      "                      min_samples_leaf=2, min_samples_split=5, n_estimators=322,\n",
      "                      random_state=42)\n"
     ]
    },
    {
     "data": {
      "image/png": "[encoded data removed]",
      "text/plain": [
       "<Figure size 576x576 with 1 Axes>"
      ]
     },
     "metadata": {
      "needs_background": "light"
     },
     "output_type": "display_data"
    },
    {
     "name": "stdout",
     "output_type": "stream",
     "text": [
      "RMSE = 652.52 ppm \n",
      " MAE = 447.12 ppm \n",
      " $R^2$ = 0.92\n",
      "\n",
      "\n",
      "KernelRidge(alpha=1e-08, coef0=0.020408163363265307, degree=4, gamma=0.001,\n",
      "            kernel='laplacian')\n"
     ]
    },
    {
     "data": {
      "image/png": "[encoded data removed]",
      "text/plain": [
       "<Figure size 576x576 with 1 Axes>"
      ]
     },
     "metadata": {
      "needs_background": "light"
     },
     "output_type": "display_data"
    },
    {
     "name": "stdout",
     "output_type": "stream",
     "text": [
      "RMSE = 411.25 ppm \n",
      " MAE = 328.07 ppm \n",
      " $R^2$ = 0.97\n",
      "\n",
      "\n",
      "SVR(C=10000000, coef0=1e-05, degree=2, epsilon=0.01, max_iter=1000000,\n",
      "    tol=1e-07)\n"
     ]
    },
    {
     "data": {
      "image/png": "[encoded data removed]",
      "text/plain": [
       "<Figure size 576x576 with 1 Axes>"
      ]
     },
     "metadata": {
      "needs_background": "light"
     },
     "output_type": "display_data"
    },
    {
     "name": "stdout",
     "output_type": "stream",
     "text": [
      "RMSE = 417.41 ppm \n",
      " MAE = 354.51 ppm \n",
      " $R^2$ = 0.97\n",
      "\n",
      "\n"
     ]
    }
   ],
   "source": [
    "for i in best_estim:\n",
    "    print(i)\n",
    "    plot_correlation(i, X_test_norm, y_test)\n",
    "    print('\\n')"
   ]
  },
  {
   "cell_type": "markdown",
   "id": "3caea616",
   "metadata": {},
   "source": [
    "## Models explanation"
   ]
  },
  {
   "cell_type": "code",
   "execution_count": null,
   "id": "bd0b65f1",
   "metadata": {},
   "outputs": [],
   "source": [
    "shap.initjs()\n",
    "columns"
   ]
  },
  {
   "cell_type": "markdown",
   "id": "f3e35737",
   "metadata": {},
   "source": [
    "### Random Forest"
   ]
  },
  {
   "cell_type": "code",
   "execution_count": null,
   "id": "bb47f7dd",
   "metadata": {
    "scrolled": false
   },
   "outputs": [],
   "source": [
    "explainer_rf = shap.TreeExplainer(model=best_estim[0])\n",
    "shap_values_rf = explainer_rf.shap_values(X_train_norm[0])\n",
    "\n",
    "shap.force_plot(base_value=explainer_rf.expected_value, shap_values=shap_values_rf,\n",
    "                features=X_train_norm[0], feature_names=columns)"
   ]
  },
  {
   "cell_type": "code",
   "execution_count": null,
   "id": "885d3b2a",
   "metadata": {},
   "outputs": [],
   "source": [
    "explainer_rf = shap.TreeExplainer(model=best_estim[0])\n",
    "shap_values_rf = explainer_rf(X_train_norm)\n",
    "shap.summary_plot(shap_values_rf, X_train_norm, feature_names=columns, show=False)\n",
    "plt.savefig('shap_random_forest.png', format='png', dpi=600, bbox_inches='tight')\n",
    "plt.show()"
   ]
  },
  {
   "cell_type": "markdown",
   "id": "b209d7f3",
   "metadata": {},
   "source": [
    "### Laplacian kernel ridge regression"
   ]
  },
  {
   "cell_type": "code",
   "execution_count": null,
   "id": "7c8c7d7b",
   "metadata": {
    "scrolled": true
   },
   "outputs": [],
   "source": [
    "explainer_ridge = shap.KernelExplainer(model=best_estim[1].predict, data=X_train_norm)\n",
    "shap_values_ridge = explainer_ridge.shap_values(X_test_norm[0])\n",
    "\n",
    "shap.force_plot(base_value=explainer_ridge.expected_value, shap_values=shap_values_ridge,\n",
    "                features=X_test_norm[0], feature_names=columns)"
   ]
  },
  {
   "cell_type": "code",
   "execution_count": null,
   "id": "f5f2f39c",
   "metadata": {
    "scrolled": true
   },
   "outputs": [],
   "source": [
    "shap_values_ridge = explainer_ridge.shap_values(X_train_norm)\n",
    "shap.summary_plot(shap_values_ridge, X_train_norm, feature_names = columns, show=False)\n",
    "plt.savefig('shap_kernel.png', format='png', dpi=600, bbox_inches='tight')\n",
    "plt.show()"
   ]
  },
  {
   "cell_type": "markdown",
   "id": "d1c1aadc",
   "metadata": {},
   "source": [
    "### SVR"
   ]
  },
  {
   "cell_type": "code",
   "execution_count": null,
   "id": "eb4551f7",
   "metadata": {
    "scrolled": true
   },
   "outputs": [],
   "source": [
    "explainer_svr = shap.KernelExplainer(model=best_estim[2].predict, data=X_train_norm)\n",
    "shap_values_svr = explainer_svr.shap_values(X_train_norm[0])\n",
    "\n",
    "shap.force_plot(base_value=explainer_svr.expected_value, shap_values=shap_values_svr,\n",
    "                features=X_train_norm[0], feature_names=columns)"
   ]
  },
  {
   "cell_type": "code",
   "execution_count": null,
   "id": "66a0d989",
   "metadata": {
    "scrolled": true
   },
   "outputs": [],
   "source": [
    "shap_values_svr = explainer_svr.shap_values(X_train_norm)\n",
    "shap.summary_plot(shap_values_svr, X_train_norm, feature_names = columns, show=False)\n",
    "plt.savefig('shap_svr.png', format='png', dpi=600, bbox_inches='tight')\n",
    "plt.show()"
   ]
  },
  {
   "cell_type": "code",
   "execution_count": null,
   "id": "0c08f2ba",
   "metadata": {},
   "outputs": [],
   "source": []
  }
 ],
 "metadata": {
  "kernelspec": {
   "display_name": "Python 3 (ipykernel)",
   "language": "python",
   "name": "python3"
  },
  "language_info": {
   "codemirror_mode": {
    "name": "ipython",
    "version": 3
   },
   "file_extension": ".py",
   "mimetype": "text/x-python",
   "name": "python",
   "nbconvert_exporter": "python",
   "pygments_lexer": "ipython3",
   "version": "3.9.5"
  }
 },
 "nbformat": 4,
 "nbformat_minor": 5
}
