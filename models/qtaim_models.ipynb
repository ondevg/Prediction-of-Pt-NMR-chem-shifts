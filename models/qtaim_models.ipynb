{
 "cells": [
  {
   "cell_type": "code",
   "execution_count": null,
   "id": "92b7a49b",
   "metadata": {},
   "outputs": [],
   "source": [
    "import pandas as pd\n",
    "import matplotlib.pyplot as plt\n",
    "import seaborn as sns\n",
    "from sklearn.model_selection import train_test_split, learning_curve\n",
    "from sklearn.metrics import mean_squared_error, mean_absolute_error, r2_score\n",
    "from sklearn.ensemble import RandomForestRegressor\n",
    "from sklearn.kernel_ridge import KernelRidge\n",
    "from math import sqrt\n",
    "import numpy as np\n",
    "from sklearn.svm import SVR\n",
    "from sklearn.model_selection import RandomizedSearchCV, cross_val_score\n",
    "from sklearn.preprocessing import StandardScaler\n",
    "from sklearn.model_selection import learning_curve\n",
    "from sklearn.model_selection import ShuffleSplit\n",
    "pd.set_option(\"display.max_rows\", None)\n",
    "pd.set_option(\"display.max_columns\", None)\n",
    "import shap"
   ]
  },
  {
   "cell_type": "markdown",
   "id": "d1ce1d93",
   "metadata": {},
   "source": [
    "## Data preparation"
   ]
  },
  {
   "cell_type": "code",
   "execution_count": null,
   "id": "48fce438",
   "metadata": {
    "scrolled": true
   },
   "outputs": [],
   "source": [
    "df = pd.read_csv('dataset\\no_corr_qtaim_pt_dataset.csv')"
   ]
  },
  {
   "cell_type": "code",
   "execution_count": null,
   "id": "857006a8",
   "metadata": {
    "scrolled": true
   },
   "outputs": [],
   "source": [
    "y = df.Shift.to_numpy()\n",
    "X = df.drop(['Complex ID', 'Shift', 'Source_doi', 'Brutto', 'Charge_class', 'Geometry', 'Ligand', 'Smiles'], axis=1)\n",
    "columns = X.columns\n",
    "X = X.to_numpy()"
   ]
  },
  {
   "cell_type": "code",
   "execution_count": null,
   "id": "bb39b63e",
   "metadata": {},
   "outputs": [],
   "source": [
    "X_train, X_test, y_train, y_test = train_test_split(X, y, test_size=0.2, random_state=42)"
   ]
  },
  {
   "cell_type": "code",
   "execution_count": null,
   "id": "a5eca067",
   "metadata": {
    "scrolled": true
   },
   "outputs": [],
   "source": [
    "scaler_train = StandardScaler()\n",
    "\n",
    "scaler_train.fit(X_train)\n",
    "scaler_train.fit(X_test)\n",
    "\n",
    "X_train_norm = scaler_train.transform(X_train)\n",
    "X_test_norm = scaler_train.transform(X_test)"
   ]
  },
  {
   "cell_type": "markdown",
   "id": "037889cb",
   "metadata": {},
   "source": [
    "## Some useful functions"
   ]
  },
  {
   "cell_type": "code",
   "execution_count": null,
   "id": "43ac5a01",
   "metadata": {},
   "outputs": [],
   "source": [
    "def metrics(y, y_pred):\n",
    "    \n",
    "    rmse = sqrt(mean_squared_error(y, y_pred))\n",
    "    mae = mean_absolute_error(y, y_pred)\n",
    "    r2 = r2_score(y, y_pred)\n",
    "    print('RMSE = {:0.2f} ppm'.format(rmse),'\\n',\n",
    "          'MAE = {:0.2f} ppm'.format(mae), '\\n',\n",
    "         '$R**2$ = {:0.2f}'.format(r2))   \n",
    "    return {'RMSE': rmse, 'MAE': mae, '$R^2$': r2}"
   ]
  },
  {
   "cell_type": "code",
   "execution_count": null,
   "id": "69cc3e0b",
   "metadata": {},
   "outputs": [],
   "source": [
    "def plot_correlation(model, X, y):\n",
    "    plt.rcParams['font.size'] = 16\n",
    "    fig, ax = plt.subplots(figsize=(6,6))\n",
    "    plt.plot(y, y, color='r', linestyle='-', linewidth=2)\n",
    "    plt.plot(y, model.predict(X), linestyle='none', color='blue', marker='o')\n",
    "    \n",
    "    \n",
    "    plt.xlabel(\"Experimental δ, ppm\")\n",
    "    plt.ylabel(\"Predicted δ, ppm\")\n",
    "    plt.show()\n",
    "#     fig.savefig('{}.png'.format(model), dpi=300, bbox_inches = 'tight')\n",
    "    \n",
    "    return metrics(y, model.predict(X))"
   ]
  },
  {
   "cell_type": "code",
   "execution_count": null,
   "id": "77d1269c",
   "metadata": {},
   "outputs": [],
   "source": [
    "def tune_hyperparam(estimator, grid, X, y):\n",
    "    \n",
    "    est_random = RandomizedSearchCV(estimator=estimator, param_distributions = grid, n_iter = 100, \n",
    "                                    cv = 5, verbose=2, random_state=42, n_jobs = -1)\n",
    "    est_random.fit(X, y)\n",
    "    print(est_random.best_params_)\n",
    "    print('Mean of $R**2$', est_random.best_score_)\n",
    "    \n",
    "    return est_random.best_estimator_"
   ]
  },
  {
   "cell_type": "code",
   "execution_count": null,
   "id": "6920dfb4",
   "metadata": {},
   "outputs": [],
   "source": [
    "def evaluate(estimator, X, y, n_splits, scoring):\n",
    "    \n",
    "    cv = ShuffleSplit(n_splits=n_splits, test_size=0.2, random_state=42)\n",
    "    scores = cross_val_score(estimator, X, y, cv=cv, scoring=scoring)\n",
    "    \n",
    "    if scoring == 'r2':\n",
    "        scores = scores\n",
    "        \n",
    "    if scoring == 'neg_mean_absolute_error':\n",
    "        scores = [-i for i in scores]\n",
    "        \n",
    "    if scoring == 'neg_mean_squared_error':\n",
    "        scores = [np.sqrt(-i) for i in scores]\n",
    "        \n",
    "    return {'Mean':np.round(np.mean(scores), 2), 'Std': np.round(np.std(scores), 2),\n",
    "            'Min': np.round(np.min(scores), 2), 'Max': np.round(np.max(scores), 2)}"
   ]
  },
  {
   "cell_type": "markdown",
   "id": "08858f5f",
   "metadata": {},
   "source": [
    "## Models: Random Forest, Ridge regressor, SVR"
   ]
  },
  {
   "cell_type": "markdown",
   "id": "fa5c2be9",
   "metadata": {},
   "source": [
    "### Hyperprameter tuning by use of grid search"
   ]
  },
  {
   "cell_type": "code",
   "execution_count": null,
   "id": "b09fbb59",
   "metadata": {
    "scrolled": true
   },
   "outputs": [],
   "source": [
    "#Random forest grid\n",
    "n_estimators = [int(x) for x in np.linspace(start = 10, stop = 1000, num = 20)]\n",
    "max_features = ['auto', 'sqrt']\n",
    "max_depth = [int(x) for x in np.linspace(5, 205, num = 22)]\n",
    "max_depth.append(None)\n",
    "min_samples_split = [1, 2, 3, 4, 5, 6, 7, 8, 9, 10]\n",
    "min_samples_leaf = [1, 2, 3, 4]\n",
    "bootstrap = [True, False]\n",
    "warm_start = [True, False]\n",
    "grid_rf = {'n_estimators': n_estimators,\n",
    "               'max_features': max_features,\n",
    "               'max_depth': max_depth,\n",
    "               'min_samples_split': min_samples_split,\n",
    "               'min_samples_leaf': min_samples_leaf,\n",
    "               'bootstrap': bootstrap,\n",
    "              'warm_start': warm_start}"
   ]
  },
  {
   "cell_type": "code",
   "execution_count": null,
   "id": "c1242421",
   "metadata": {
    "scrolled": true
   },
   "outputs": [],
   "source": [
    "#Ridge regression grid\n",
    "alpha = [1.e-0, 1.e-1, 1.e-2, 1.e-3, 1.e-4, 1.e-5, 1.e-6, 1.e-7, 1.e-8, 1.e-9, 1.e-10]\n",
    "coef0 = np.linspace(1.e-10, 1, 50)\n",
    "degree = [0, 1, 2, 3, 4]\n",
    "gamma = [1.e-0, 1.e-1, 1.e-2, 1.e-3, 1.e-4, 1.e-5, 1.e-6, 1.e-7, 1.e-8, 1.e-9, 1.e-10]\n",
    "kernel = ['laplacian', 'RBF', 'polynomial', 'exponential chi2', 'sigmoid']\n",
    "\n",
    "grid_ridge = {'alpha': alpha,\n",
    "         'coef0': coef0,\n",
    "         'degree': degree,\n",
    "         'gamma': gamma,\n",
    "         'kernel': kernel}"
   ]
  },
  {
   "cell_type": "code",
   "execution_count": null,
   "id": "4d105e58",
   "metadata": {
    "scrolled": true
   },
   "outputs": [],
   "source": [
    "#SVR grid\n",
    "C = [10000, 100000, 1000000, 10000000]\n",
    "coef0 = [1.e-0, 1.e-1, 1.e-2, 1.e-3, 1.e-4, 1.e-5, 1.e-6, 1.e-7, 1.e-8, 1.e-9, 1.e-10]\n",
    "degree = [1, 2, 3, 4, 5]\n",
    "epsilon = [1.e-0, 1.e-1, 1.e-2, 1.e-3, 1.e-4, 1.e-5, 1.e-6, 1.e-7, 1.e-8, 1.e-9, 1.e-10]\n",
    "gamma = ['scale', 'auto']\n",
    "kernel = ['linear', 'poly', 'rbf', 'sigmoid']\n",
    "tol = [1.e-1, 1.e-2, 1.e-3, 1.e-4, 1.e-5, 1.e-6, 1.e-7, 1.e-8, 1.e-9, 1.e-10]\n",
    "max_iter = 1000000\n",
    "\n",
    "grid_svr = {'C' : C,\n",
    "     'coef0': coef0,\n",
    "     'degree': degree,\n",
    "     'epsilon': epsilon,\n",
    "     'gamma': gamma,\n",
    "     'kernel': kernel,\n",
    "     'tol': tol}"
   ]
  },
  {
   "cell_type": "code",
   "execution_count": null,
   "id": "806e56fa",
   "metadata": {},
   "outputs": [],
   "source": [
    "rf = RandomForestRegressor(random_state=42)\n",
    "ridge = KernelRidge()\n",
    "svr = SVR(max_iter=max_iter)\n",
    "estimators = {rf: grid_rf, ridge: grid_ridge, svr: grid_svr}"
   ]
  },
  {
   "cell_type": "code",
   "execution_count": null,
   "id": "14456f8d",
   "metadata": {
    "scrolled": true
   },
   "outputs": [],
   "source": [
    "best_estim = []\n",
    "for i, j in estimators.items():\n",
    "    best_estim.append(tune_hyperparam(i, j, X_train_norm, y_train))"
   ]
  },
  {
   "cell_type": "code",
   "execution_count": null,
   "id": "40a5d6e9",
   "metadata": {},
   "outputs": [],
   "source": [
    "best_estim"
   ]
  },
  {
   "cell_type": "markdown",
   "id": "50793e9f",
   "metadata": {},
   "source": [
    "### Training and evaluation of models by use of cross-validation"
   ]
  },
  {
   "cell_type": "code",
   "execution_count": null,
   "id": "b7cc138d",
   "metadata": {},
   "outputs": [],
   "source": [
    "print('Range of chem shifts', np.min(y_train), ':', np.max(y_train))"
   ]
  },
  {
   "cell_type": "code",
   "execution_count": null,
   "id": "815a8be2",
   "metadata": {
    "scrolled": true
   },
   "outputs": [],
   "source": [
    "#Determination coefficient\n",
    "res_r2 = []\n",
    "for i in best_estim:\n",
    "    res_r2.append(evaluate(i, X_train_norm, y_train, n_splits=4, scoring='r2'))\n",
    "res_df_r2 = pd.DataFrame(res_r2, index=['RF', 'Ridge regr', 'SVR'])\n",
    "res_df_r2"
   ]
  },
  {
   "cell_type": "code",
   "execution_count": null,
   "id": "c5dcbd20",
   "metadata": {
    "scrolled": false
   },
   "outputs": [],
   "source": [
    "#MAE\n",
    "res_mae = []\n",
    "for i in best_estim:\n",
    "    res_mae.append(evaluate(i, X_train_norm, y_train, n_splits=4, scoring='neg_mean_absolute_error'))\n",
    "res_df_mae = pd.DataFrame(res_mae, index=['RF', 'Ridge regr', 'SVR'])\n",
    "res_df_mae"
   ]
  },
  {
   "cell_type": "code",
   "execution_count": null,
   "id": "333b138c",
   "metadata": {},
   "outputs": [],
   "source": [
    "#RMSE\n",
    "res_rmse = []\n",
    "for i in best_estim:\n",
    "    res_rmse.append(evaluate(i, X_train_norm, y_train, n_splits=4, scoring='neg_mean_squared_error'))\n",
    "res_df_rmse = pd.DataFrame(res_rmse, index=['RF', 'Ridge regr', 'SVR'])\n",
    "res_df_rmse"
   ]
  },
  {
   "cell_type": "code",
   "execution_count": null,
   "id": "0cc5c648",
   "metadata": {
    "scrolled": true
   },
   "outputs": [],
   "source": [
    "for i in best_estim:\n",
    "    print(i)\n",
    "    plot_correlation(i, X_train_norm, y_train,)\n",
    "    print('\\n')"
   ]
  },
  {
   "cell_type": "code",
   "execution_count": null,
   "id": "52fa4b8d",
   "metadata": {
    "scrolled": true
   },
   "outputs": [],
   "source": [
    "#Learning curves train vs. validation\n",
    "for i in best_estim:\n",
    "    print(i)\n",
    "    train_sizes, train_scores, test_scores, fit_times, _ = learning_curve(i, X_train_norm, y_train, cv=4,return_times=True, scoring='r2')\n",
    "    fig, ax = plt.subplots(figsize=(6,6))\n",
    "    plt.plot(train_sizes,np.mean(train_scores,axis=1), color='r', label='Train')\n",
    "    plt.plot(train_sizes,np.mean(test_scores,axis=1), color='blue', label='Validation')\n",
    "    plt.ylabel('$R^2$')\n",
    "    plt.xlabel('Training set size')\n",
    "    plt.ylim(-0.05,1.05)\n",
    "    plt.legend()\n",
    "    plt.show()\n",
    "#     fig.savefig('learning curve {}.png'.format(i), dpi=300, bbox_inches = 'tight')\n"
   ]
  },
  {
   "cell_type": "markdown",
   "id": "44ae17f1",
   "metadata": {},
   "source": [
    "## Test the model on held-out data"
   ]
  },
  {
   "cell_type": "code",
   "execution_count": null,
   "id": "b0eb8a53",
   "metadata": {
    "scrolled": true
   },
   "outputs": [],
   "source": [
    "for i in best_estim:\n",
    "    print(i)\n",
    "    plot_correlation(i, X_test_norm, y_test)\n",
    "    print('\\n')"
   ]
  },
  {
   "cell_type": "markdown",
   "id": "3caea616",
   "metadata": {},
   "source": [
    "## Models explanation"
   ]
  },
  {
   "cell_type": "code",
   "execution_count": null,
   "id": "bd0b65f1",
   "metadata": {},
   "outputs": [],
   "source": [
    "shap.initjs()\n",
    "columns"
   ]
  },
  {
   "cell_type": "markdown",
   "id": "f3e35737",
   "metadata": {},
   "source": [
    "### Random Forest"
   ]
  },
  {
   "cell_type": "code",
   "execution_count": null,
   "id": "bb47f7dd",
   "metadata": {
    "scrolled": false
   },
   "outputs": [],
   "source": [
    "explainer_rf = shap.TreeExplainer(model=best_estim[0])\n",
    "shap_values_rf = explainer_rf.shap_values(X_train_norm[0])\n",
    "\n",
    "shap.force_plot(base_value=explainer_rf.expected_value, shap_values=shap_values_rf,\n",
    "                features=X_train_norm[0], feature_names=columns)"
   ]
  },
  {
   "cell_type": "code",
   "execution_count": null,
   "id": "885d3b2a",
   "metadata": {},
   "outputs": [],
   "source": [
    "plt.rcParams['font.size'] = 16\n",
    "explainer_rf = shap.TreeExplainer(model=best_estim[0])\n",
    "shap_values_rf = explainer_rf(X_train_norm)\n",
    "shap.summary_plot(shap_values_rf, X_train_norm, feature_names=columns, show=False)\n",
    "plt.savefig('shap_random_forest.png', format='png', dpi=600, bbox_inches='tight')\n",
    "plt.show()"
   ]
  },
  {
   "cell_type": "markdown",
   "id": "b209d7f3",
   "metadata": {},
   "source": [
    "### Laplacian kernel ridge regression"
   ]
  },
  {
   "cell_type": "code",
   "execution_count": null,
   "id": "7c8c7d7b",
   "metadata": {
    "scrolled": true
   },
   "outputs": [],
   "source": [
    "explainer_ridge = shap.KernelExplainer(model=best_estim[1].predict, data=X_train_norm)\n",
    "shap_values_ridge = explainer_ridge.shap_values(X_test_norm[0])\n",
    "\n",
    "shap.force_plot(base_value=explainer_ridge.expected_value, shap_values=shap_values_ridge,\n",
    "                features=X_test_norm[0], feature_names=columns)"
   ]
  },
  {
   "cell_type": "code",
   "execution_count": null,
   "id": "f5f2f39c",
   "metadata": {
    "scrolled": true
   },
   "outputs": [],
   "source": [
    "plt.rcParams['font.size'] = 16\n",
    "shap_values_ridge = explainer_ridge.shap_values(X_train_norm)\n",
    "shap.summary_plot(shap_values_ridge, X_train_norm, feature_names = columns, show=False)\n",
    "# plt.savefig('shap_kernel.png', format='png', dpi=600, bbox_inches='tight')\n",
    "plt.show()"
   ]
  },
  {
   "cell_type": "markdown",
   "id": "d1c1aadc",
   "metadata": {},
   "source": [
    "### SVR"
   ]
  },
  {
   "cell_type": "code",
   "execution_count": null,
   "id": "eb4551f7",
   "metadata": {
    "scrolled": true
   },
   "outputs": [],
   "source": [
    "explainer_svr = shap.KernelExplainer(model=best_estim[2].predict, data=X_train_norm)\n",
    "shap_values_svr = explainer_svr.shap_values(X_train_norm[0])\n",
    "\n",
    "shap.force_plot(base_value=explainer_svr.expected_value, shap_values=shap_values_svr,\n",
    "                features=X_train_norm[0], feature_names=columns)"
   ]
  },
  {
   "cell_type": "code",
   "execution_count": null,
   "id": "66a0d989",
   "metadata": {
    "scrolled": true
   },
   "outputs": [],
   "source": [
    "plt.rcParams['font.size'] = 16\n",
    "shap_values_svr = explainer_svr.shap_values(X_train_norm)\n",
    "shap.summary_plot(shap_values_svr, X_train_norm, feature_names = columns, show=False)\n",
    "# plt.savefig('shap_svr.png', format='png', dpi=600, bbox_inches='tight')\n",
    "plt.show()"
   ]
  },
  {
   "cell_type": "code",
   "execution_count": null,
   "id": "0c08f2ba",
   "metadata": {},
   "outputs": [],
   "source": []
  }
 ],
 "metadata": {
  "kernelspec": {
   "display_name": "Python 3 (ipykernel)",
   "language": "python",
   "name": "python3"
  },
  "language_info": {
   "codemirror_mode": {
    "name": "ipython",
    "version": 3
   },
   "file_extension": ".py",
   "mimetype": "text/x-python",
   "name": "python",
   "nbconvert_exporter": "python",
   "pygments_lexer": "ipython3",
   "version": "3.11.0"
  }
 },
 "nbformat": 4,
 "nbformat_minor": 5
}
